{
  "cells": [
    {
      "cell_type": "markdown",
      "metadata": {
        "id": "yrDkjmOPqPtJ"
      },
      "source": [
        "# Python tutorial\n"
      ]
    },
    {
      "cell_type": "markdown",
      "metadata": {
        "id": "Ip-yQD-jqPtK"
      },
      "source": [
        "#### The modules needed to run this tutorial are imported below\n"
      ]
    },
    {
      "cell_type": "code",
      "execution_count": 1,
      "metadata": {
        "id": "hhpvIuuDqPtL"
      },
      "outputs": [],
      "source": [
        "%matplotlib inline\n",
        "import numpy as np\n",
        "from numpy.random import randn\n",
        "import matplotlib.pyplot as plt\n",
        "import scipy.io\n",
        "import scipy.misc"
      ]
    },
    {
      "cell_type": "code",
      "execution_count": 2,
      "metadata": {
        "id": "ZLJyPu31qbov"
      },
      "outputs": [],
      "source": [
        "# If you are using Google Colab\n",
        "# from google.colab import drive\n",
        "# drive.mount('/content/drive/')\n",
        "# %cd '/content/drive/My Drive/FML/Laboratory 00/'\n"
      ]
    },
    {
      "cell_type": "markdown",
      "metadata": {
        "id": "RpG0RprhqPtL"
      },
      "source": [
        "## Elementary arithmetic operations\n",
        "\n",
        "##### Python is capable of working like a calculator with some caveats.\n"
      ]
    },
    {
      "cell_type": "code",
      "execution_count": 3,
      "metadata": {
        "id": "pH1sNp3HqPtL"
      },
      "outputs": [
        {
          "data": {
            "text/plain": [
              "11"
            ]
          },
          "execution_count": 3,
          "metadata": {},
          "output_type": "execute_result"
        }
      ],
      "source": [
        "5+6"
      ]
    },
    {
      "cell_type": "code",
      "execution_count": 4,
      "metadata": {
        "id": "FEsmZpaVqPtL"
      },
      "outputs": [
        {
          "data": {
            "text/plain": [
              "1"
            ]
          },
          "execution_count": 4,
          "metadata": {},
          "output_type": "execute_result"
        }
      ],
      "source": [
        "3-2"
      ]
    },
    {
      "cell_type": "code",
      "execution_count": 5,
      "metadata": {
        "id": "cV91gv-zqPtM"
      },
      "outputs": [
        {
          "data": {
            "text/plain": [
              "40"
            ]
          },
          "execution_count": 5,
          "metadata": {},
          "output_type": "execute_result"
        }
      ],
      "source": [
        "5*8"
      ]
    },
    {
      "cell_type": "markdown",
      "metadata": {
        "id": "b0G08fajqPtM"
      },
      "source": [
        "##### Beware: integer division rounds the result down! You can implicitly convert to a float by adding a '.'\n"
      ]
    },
    {
      "cell_type": "code",
      "execution_count": 6,
      "metadata": {
        "id": "tZI388VSqPtM"
      },
      "outputs": [
        {
          "data": {
            "text/plain": [
              "0.5"
            ]
          },
          "execution_count": 6,
          "metadata": {},
          "output_type": "execute_result"
        }
      ],
      "source": [
        "1/2"
      ]
    },
    {
      "cell_type": "code",
      "execution_count": 7,
      "metadata": {
        "id": "3i7mnH4PqPtM"
      },
      "outputs": [
        {
          "data": {
            "text/plain": [
              "0.5"
            ]
          },
          "execution_count": 7,
          "metadata": {},
          "output_type": "execute_result"
        }
      ],
      "source": [
        "1./2"
      ]
    },
    {
      "cell_type": "markdown",
      "metadata": {
        "id": "pHTi7czzqPtM"
      },
      "source": [
        "##### Exponents use the '\\*\\*' operator\n"
      ]
    },
    {
      "cell_type": "code",
      "execution_count": 8,
      "metadata": {
        "id": "fR1wia-iqPtM"
      },
      "outputs": [
        {
          "data": {
            "text/plain": [
              "64"
            ]
          },
          "execution_count": 8,
          "metadata": {},
          "output_type": "execute_result"
        }
      ],
      "source": [
        "2**6"
      ]
    },
    {
      "cell_type": "markdown",
      "metadata": {
        "id": "L_BfTYf3qPtM"
      },
      "source": [
        "## Logical operations\n",
        "\n",
        "##### Every object has a boolean value returned from bool(). The following elements are false:\n",
        "\n",
        "- None\n",
        "- False\n",
        "- 0\n",
        "- Empty collections: “”, (), [], {}\n"
      ]
    },
    {
      "cell_type": "code",
      "execution_count": 9,
      "metadata": {
        "id": "KcR-hSNaqPtM"
      },
      "outputs": [
        {
          "data": {
            "text/plain": [
              "0"
            ]
          },
          "execution_count": 9,
          "metadata": {},
          "output_type": "execute_result"
        }
      ],
      "source": [
        "1 and 0 # AND"
      ]
    },
    {
      "cell_type": "code",
      "execution_count": 10,
      "metadata": {
        "id": "FUO3Nq6XqPtN"
      },
      "outputs": [
        {
          "data": {
            "text/plain": [
              "1"
            ]
          },
          "execution_count": 10,
          "metadata": {},
          "output_type": "execute_result"
        }
      ],
      "source": [
        "1 or 0 # OR"
      ]
    },
    {
      "cell_type": "code",
      "execution_count": 11,
      "metadata": {
        "id": "5DtBmOinqPtN"
      },
      "outputs": [
        {
          "data": {
            "text/plain": [
              "True"
            ]
          },
          "execution_count": 11,
          "metadata": {},
          "output_type": "execute_result"
        }
      ],
      "source": [
        "1 != 0 # XOR"
      ]
    },
    {
      "cell_type": "code",
      "execution_count": 12,
      "metadata": {
        "id": "5_f8yLT4qPtN"
      },
      "outputs": [
        {
          "data": {
            "text/plain": [
              "False"
            ]
          },
          "execution_count": 12,
          "metadata": {},
          "output_type": "execute_result"
        }
      ],
      "source": [
        "bool([]) and True # False"
      ]
    },
    {
      "cell_type": "code",
      "execution_count": 13,
      "metadata": {
        "id": "wIJZuVvSqPtN"
      },
      "outputs": [
        {
          "data": {
            "text/plain": [
              "False"
            ]
          },
          "execution_count": 13,
          "metadata": {},
          "output_type": "execute_result"
        }
      ],
      "source": [
        "a='foo'\n",
        "b='bar'\n",
        "bool(a) != bool(b)"
      ]
    },
    {
      "cell_type": "code",
      "execution_count": 14,
      "metadata": {
        "id": "wRzzoxlSqPtN"
      },
      "outputs": [
        {
          "data": {
            "text/plain": [
              "True"
            ]
          },
          "execution_count": 14,
          "metadata": {},
          "output_type": "execute_result"
        }
      ],
      "source": [
        "b=None\n",
        "bool(a) != bool(b)"
      ]
    },
    {
      "cell_type": "markdown",
      "metadata": {
        "id": "s-gCX-WHqPtN"
      },
      "source": [
        "## Python variables and types\n",
        "\n",
        "### Displaying variables\n",
        "\n",
        "##### Variables are displayed on the console by typing the variable name\n"
      ]
    },
    {
      "cell_type": "code",
      "execution_count": 15,
      "metadata": {
        "id": "vKPSpXUqqPtN"
      },
      "outputs": [
        {
          "data": {
            "text/plain": [
              "3"
            ]
          },
          "execution_count": 15,
          "metadata": {},
          "output_type": "execute_result"
        }
      ],
      "source": [
        "b=3\n",
        "b"
      ]
    },
    {
      "cell_type": "code",
      "execution_count": 16,
      "metadata": {
        "id": "hL42bjtyqPtN"
      },
      "outputs": [
        {
          "data": {
            "text/plain": [
              "3.141592653589793"
            ]
          },
          "execution_count": 16,
          "metadata": {},
          "output_type": "execute_result"
        }
      ],
      "source": [
        "from math import pi\n",
        "b=pi\n",
        "b"
      ]
    },
    {
      "cell_type": "markdown",
      "metadata": {
        "id": "KwTkun7kqPtN"
      },
      "source": [
        "floating point numbers are formatted in two ways:\n",
        "\n",
        "The 'old' way (pre-python 2.7):\n"
      ]
    },
    {
      "cell_type": "code",
      "execution_count": 17,
      "metadata": {
        "id": "fNo8TiJiqPtN"
      },
      "outputs": [
        {
          "name": "stdout",
          "output_type": "stream",
          "text": [
            "3.1416\n"
          ]
        }
      ],
      "source": [
        "print('%1.4f'%b)"
      ]
    },
    {
      "cell_type": "markdown",
      "metadata": {
        "id": "qM4YuDMzqPtN"
      },
      "source": [
        "##### The 'new' way (python 2.7+):\n"
      ]
    },
    {
      "cell_type": "code",
      "execution_count": 18,
      "metadata": {
        "id": "HbRhLh4jqPtO"
      },
      "outputs": [
        {
          "name": "stdout",
          "output_type": "stream",
          "text": [
            "3.1416\n"
          ]
        }
      ],
      "source": [
        "print('{:1.5}'.format(b))"
      ]
    },
    {
      "cell_type": "markdown",
      "metadata": {
        "id": "jyOWgdmSqPtO"
      },
      "source": [
        "## Numpy basics\n",
        "\n",
        "### Vectors and matrices\n"
      ]
    },
    {
      "cell_type": "code",
      "execution_count": 19,
      "metadata": {
        "id": "wYFmr1XVqPtO"
      },
      "outputs": [
        {
          "data": {
            "text/plain": [
              "array([[1, 2],\n",
              "       [3, 4],\n",
              "       [5, 6]])"
            ]
          },
          "execution_count": 19,
          "metadata": {},
          "output_type": "execute_result"
        }
      ],
      "source": [
        "a=np.array([[1,2],[3,4],[5,6]]) # 3x2 numpy matrix\n",
        "a"
      ]
    },
    {
      "cell_type": "code",
      "execution_count": 20,
      "metadata": {
        "id": "Ron5GA_VqPtO"
      },
      "outputs": [
        {
          "data": {
            "text/plain": [
              "[1, 2, 3]"
            ]
          },
          "execution_count": 20,
          "metadata": {},
          "output_type": "execute_result"
        }
      ],
      "source": [
        "v=[1,2,3]   # ordinary python list\n",
        "v"
      ]
    },
    {
      "cell_type": "code",
      "execution_count": 21,
      "metadata": {
        "id": "glDanR6AqPtO"
      },
      "outputs": [
        {
          "data": {
            "text/plain": [
              "array([1, 2, 3])"
            ]
          },
          "execution_count": 21,
          "metadata": {},
          "output_type": "execute_result"
        }
      ],
      "source": [
        "v=np.array([1,2,3]) # numpy array\n",
        "v"
      ]
    },
    {
      "cell_type": "markdown",
      "metadata": {
        "id": "x3dyBF1tqPtO"
      },
      "source": [
        "##### Use `np.arange(start, stop, increment)` to generate a sequence of floats in a numpy array\n"
      ]
    },
    {
      "cell_type": "code",
      "execution_count": 22,
      "metadata": {
        "id": "dQjaYpLWqPtO"
      },
      "outputs": [
        {
          "data": {
            "text/plain": [
              "array([ 1. ,  1.1,  1.2,  1.3,  1.4,  1.5,  1.6,  1.7,  1.8,  1.9])"
            ]
          },
          "execution_count": 22,
          "metadata": {},
          "output_type": "execute_result"
        }
      ],
      "source": [
        "v=np.arange(1,2,0.1)\n",
        "v"
      ]
    },
    {
      "cell_type": "markdown",
      "metadata": {
        "id": "G1476VssqPtO"
      },
      "source": [
        "##### Use `tolist()` to convert a numpy array to a python list\n"
      ]
    },
    {
      "cell_type": "code",
      "execution_count": 23,
      "metadata": {
        "id": "rLkxPOaMqPtO"
      },
      "outputs": [
        {
          "data": {
            "text/plain": [
              "[1.0,\n",
              " 1.1,\n",
              " 1.2000000000000002,\n",
              " 1.3000000000000003,\n",
              " 1.4000000000000004,\n",
              " 1.5000000000000004,\n",
              " 1.6000000000000005,\n",
              " 1.7000000000000006,\n",
              " 1.8000000000000007,\n",
              " 1.9000000000000008]"
            ]
          },
          "execution_count": 23,
          "metadata": {},
          "output_type": "execute_result"
        }
      ],
      "source": [
        "v.tolist()"
      ]
    },
    {
      "cell_type": "markdown",
      "metadata": {
        "id": "UHlis_nWqPtO"
      },
      "source": [
        "##### The `range()` built-in function generates integer sequences in a `list`\n"
      ]
    },
    {
      "cell_type": "code",
      "execution_count": 24,
      "metadata": {
        "id": "FVgSYIMSqPtO"
      },
      "outputs": [
        {
          "data": {
            "text/plain": [
              "range(1, 6)"
            ]
          },
          "execution_count": 24,
          "metadata": {},
          "output_type": "execute_result"
        }
      ],
      "source": [
        "v=range(1,6)\n",
        "v"
      ]
    },
    {
      "cell_type": "markdown",
      "metadata": {
        "id": "8F8b5tM1qPtO"
      },
      "source": [
        "##### numpy's `linspace` function generates a non-integer sequence with a specific number of elements\n"
      ]
    },
    {
      "cell_type": "code",
      "execution_count": 25,
      "metadata": {
        "id": "sSPskfHNqPtO"
      },
      "outputs": [
        {
          "data": {
            "text/plain": [
              "array([ 1. ,  1.1,  1.2,  1.3,  1.4,  1.5,  1.6,  1.7,  1.8,  1.9,  2. ])"
            ]
          },
          "execution_count": 25,
          "metadata": {},
          "output_type": "execute_result"
        }
      ],
      "source": [
        "v=np.linspace(1,2,11)\n",
        "v"
      ]
    },
    {
      "cell_type": "markdown",
      "metadata": {
        "id": "DrKaARsrqPtP"
      },
      "source": [
        "## Comprehensions\n",
        "\n",
        "### list comprehensions\n",
        "\n",
        "##### List comprehensions allow you to create iterative code without using a loop\n"
      ]
    },
    {
      "cell_type": "code",
      "execution_count": 26,
      "metadata": {
        "id": "Bu-EKA9yqPtP"
      },
      "outputs": [
        {
          "data": {
            "text/plain": [
              "[1, 4, 9]"
            ]
          },
          "execution_count": 26,
          "metadata": {},
          "output_type": "execute_result"
        }
      ],
      "source": [
        "v=[1,2,3]\n",
        "[e**2 for e in v]"
      ]
    },
    {
      "cell_type": "code",
      "execution_count": 27,
      "metadata": {
        "id": "lXwpVPPuqPtP"
      },
      "outputs": [
        {
          "data": {
            "text/plain": [
              "[1, 9]"
            ]
          },
          "execution_count": 27,
          "metadata": {},
          "output_type": "execute_result"
        }
      ],
      "source": [
        "[e**2 for e in v if e%2 !=0]"
      ]
    },
    {
      "cell_type": "code",
      "execution_count": 28,
      "metadata": {
        "id": "T4BTuEsaqPtP"
      },
      "outputs": [
        {
          "data": {
            "text/plain": [
              "[1, -1, 9]"
            ]
          },
          "execution_count": 28,
          "metadata": {},
          "output_type": "execute_result"
        }
      ],
      "source": [
        "[e**2 if e%2 != 0 else -1 for e in v]"
      ]
    },
    {
      "cell_type": "markdown",
      "metadata": {
        "id": "E7dJQUFRqPtP"
      },
      "source": [
        "### dictionary comprehensions\n",
        "\n",
        "##### Dictionary comprehensions allow to generate dictionaries without a loop\n"
      ]
    },
    {
      "cell_type": "code",
      "execution_count": 29,
      "metadata": {
        "id": "2Aia7v0OqPtP"
      },
      "outputs": [
        {
          "data": {
            "text/plain": [
              "{1: 'a', 2: 'b', 3: 'c'}"
            ]
          },
          "execution_count": 29,
          "metadata": {},
          "output_type": "execute_result"
        }
      ],
      "source": [
        "d = {'a':1, 'b':2, 'c':3}\n",
        "{v: k for k, v in d.items()}   # swap keys and values\n",
        "{1: 'a', 2: 'b', 3: 'c'}"
      ]
    },
    {
      "cell_type": "markdown",
      "metadata": {
        "id": "Rc-6dtleqPtP"
      },
      "source": [
        "### set comprehension\n",
        "\n",
        "##### Set comrehensions generate sets in a similar way\n"
      ]
    },
    {
      "cell_type": "code",
      "execution_count": 30,
      "metadata": {
        "id": "0pZOdyM3qPtP"
      },
      "outputs": [
        {
          "data": {
            "text/plain": [
              "{1, 4}"
            ]
          },
          "execution_count": 30,
          "metadata": {},
          "output_type": "execute_result"
        }
      ],
      "source": [
        "{x**2 for x in [1, 1, 2]}\n",
        "set([1, 4])"
      ]
    },
    {
      "cell_type": "markdown",
      "metadata": {
        "id": "t4E1zaQ0qPtP"
      },
      "source": [
        "## Special matrix functions\n"
      ]
    },
    {
      "cell_type": "code",
      "execution_count": 31,
      "metadata": {
        "id": "E7N5RggyqPtP"
      },
      "outputs": [
        {
          "data": {
            "text/plain": [
              "array([[ 1.,  1.],\n",
              "       [ 1.,  1.],\n",
              "       [ 1.,  1.]])"
            ]
          },
          "execution_count": 31,
          "metadata": {},
          "output_type": "execute_result"
        }
      ],
      "source": [
        "ones=np.ones((3,2))\n",
        "ones"
      ]
    },
    {
      "cell_type": "code",
      "execution_count": 32,
      "metadata": {
        "id": "L0hccsX3qPtP"
      },
      "outputs": [
        {
          "data": {
            "text/plain": [
              "array([[ 3.,  3.],\n",
              "       [ 3.,  3.],\n",
              "       [ 3.,  3.]])"
            ]
          },
          "execution_count": 32,
          "metadata": {},
          "output_type": "execute_result"
        }
      ],
      "source": [
        "3*ones"
      ]
    },
    {
      "cell_type": "code",
      "execution_count": 33,
      "metadata": {
        "id": "pMqJgd1zqPtP"
      },
      "outputs": [
        {
          "data": {
            "text/plain": [
              "array([[ 0.,  0.],\n",
              "       [ 0.,  0.],\n",
              "       [ 0.,  0.]])"
            ]
          },
          "execution_count": 33,
          "metadata": {},
          "output_type": "execute_result"
        }
      ],
      "source": [
        "np.zeros((3,2))"
      ]
    },
    {
      "cell_type": "markdown",
      "metadata": {
        "id": "oPgGtIt6qPtQ"
      },
      "source": [
        "##### Generate an array of uniform random numbers\n"
      ]
    },
    {
      "cell_type": "code",
      "execution_count": 34,
      "metadata": {
        "id": "lUe578XQqPtQ"
      },
      "outputs": [
        {
          "data": {
            "text/plain": [
              "array([[ 0.66369353,  0.58114216],\n",
              "       [ 0.59288698,  0.40100237],\n",
              "       [ 0.83689242,  0.56962792]])"
            ]
          },
          "execution_count": 34,
          "metadata": {},
          "output_type": "execute_result"
        }
      ],
      "source": [
        "np.random.rand(3,2)"
      ]
    },
    {
      "cell_type": "markdown",
      "metadata": {
        "id": "vdynPO2KqPtQ"
      },
      "source": [
        "##### Generate an array of normal random numbers\n"
      ]
    },
    {
      "cell_type": "code",
      "execution_count": 35,
      "metadata": {
        "id": "7MCz-RtjqPtQ"
      },
      "outputs": [
        {
          "data": {
            "text/plain": [
              "array([[ 0.48073295, -1.01066679],\n",
              "       [ 1.70218196, -0.21804752],\n",
              "       [-0.37889289, -1.58574037]])"
            ]
          },
          "execution_count": 35,
          "metadata": {},
          "output_type": "execute_result"
        }
      ],
      "source": [
        "np.random.randn(3,2)"
      ]
    },
    {
      "cell_type": "code",
      "execution_count": 36,
      "metadata": {
        "id": "w4z5l_eFqPtQ"
      },
      "outputs": [
        {
          "data": {
            "text/plain": [
              "array([[ 1.,  0.,  0.],\n",
              "       [ 0.,  1.,  0.],\n",
              "       [ 0.,  0.,  1.]])"
            ]
          },
          "execution_count": 36,
          "metadata": {},
          "output_type": "execute_result"
        }
      ],
      "source": [
        "id=np.eye(3)\n",
        "id"
      ]
    },
    {
      "cell_type": "code",
      "execution_count": 37,
      "metadata": {
        "id": "bdpD0toqqPtQ"
      },
      "outputs": [
        {
          "data": {
            "text/plain": [
              "array([[ 3.,  0.,  0.],\n",
              "       [ 0.,  3.,  0.],\n",
              "       [ 0.,  0.,  3.]])"
            ]
          },
          "execution_count": 37,
          "metadata": {},
          "output_type": "execute_result"
        }
      ],
      "source": [
        "3*id"
      ]
    },
    {
      "cell_type": "markdown",
      "metadata": {
        "id": "Rmo69noQqPtQ"
      },
      "source": [
        "## Moving data around\n",
        "\n",
        "### shape and size of a matrix\n"
      ]
    },
    {
      "cell_type": "code",
      "execution_count": 38,
      "metadata": {
        "id": "Qou52Q3JqPtQ"
      },
      "outputs": [
        {
          "data": {
            "text/plain": [
              "array([[ 0.56046676,  0.50459621],\n",
              "       [ 0.05151518,  0.84527415],\n",
              "       [ 0.86613799,  0.0632287 ]])"
            ]
          },
          "execution_count": 38,
          "metadata": {},
          "output_type": "execute_result"
        }
      ],
      "source": [
        "a=np.random.rand(3,2)\n",
        "a"
      ]
    },
    {
      "cell_type": "code",
      "execution_count": 39,
      "metadata": {
        "id": "whsrqItKqPtQ"
      },
      "outputs": [
        {
          "data": {
            "text/plain": [
              "(3, 2)"
            ]
          },
          "execution_count": 39,
          "metadata": {},
          "output_type": "execute_result"
        }
      ],
      "source": [
        "a.shape"
      ]
    },
    {
      "cell_type": "code",
      "execution_count": 40,
      "metadata": {
        "id": "JgIRvimRqPtQ"
      },
      "outputs": [
        {
          "data": {
            "text/plain": [
              "6"
            ]
          },
          "execution_count": 40,
          "metadata": {},
          "output_type": "execute_result"
        }
      ],
      "source": [
        "a.size"
      ]
    },
    {
      "cell_type": "markdown",
      "metadata": {
        "id": "FfxgnLzsqPtQ"
      },
      "source": [
        "## Loading files in python\n"
      ]
    },
    {
      "cell_type": "markdown",
      "metadata": {
        "id": "zPPMNTeVqPtQ"
      },
      "source": [
        "##### Reading the contents of a simple text file\n"
      ]
    },
    {
      "cell_type": "code",
      "execution_count": 41,
      "metadata": {
        "id": "1PNm3O8tqPtQ"
      },
      "outputs": [
        {
          "data": {
            "text/plain": [
              "\"> Anyone knows how much it costs to host a web portal ?\\n>\\nWell, it depends on how many visitors you're expecting.\\nThis can be anywhere from less than 10 bucks a month to a couple of $100. \\nYou should checkout http://www.rackspace.com/ or perhaps Amazon EC2 \\nif youre running something big..\\n\\nTo unsubscribe yourself from this mailing list, send an email to:\\ngroupname-unsubscribe@egroups.com\\n\\n\""
            ]
          },
          "execution_count": 41,
          "metadata": {},
          "output_type": "execute_result"
        }
      ],
      "source": [
        "file=open('data/emailSample1.txt', 'r')\n",
        "file_contents=file.read()\n",
        "file_contents"
      ]
    },
    {
      "cell_type": "markdown",
      "metadata": {
        "id": "HNyK9ynMqPtQ"
      },
      "source": [
        "##### Loading image files\n"
      ]
    },
    {
      "cell_type": "code",
      "execution_count": 42,
      "metadata": {
        "id": "-2Qi3ezsqPtR"
      },
      "outputs": [
        {
          "data": {
            "text/plain": [
              "<matplotlib.image.AxesImage at 0x1afb3bed9b0>"
            ]
          },
          "execution_count": 42,
          "metadata": {},
          "output_type": "execute_result"
        },
        {
          "data": {
            "image/png": "[encoded data removed]",
            "text/plain": [
              "<matplotlib.figure.Figure at 0x1afb3b970b8>"
            ]
          },
          "metadata": {
            "needs_background": "light"
          },
          "output_type": "display_data"
        }
      ],
      "source": [
        "data = plt.imread('data/bird_small.png')\n",
        "plt.imshow(data)"
      ]
    },
    {
      "cell_type": "markdown",
      "metadata": {
        "id": "qjPJonH2qPtR"
      },
      "source": [
        "##### Loading the contents of a csv file\n"
      ]
    },
    {
      "cell_type": "code",
      "execution_count": 43,
      "metadata": {
        "id": "1BcNLrMZqPtR"
      },
      "outputs": [
        {
          "data": {
            "text/plain": [
              "array([[  6.1101,  17.592 ],\n",
              "       [  5.5277,   9.1302],\n",
              "       [  8.5186,  13.662 ],\n",
              "       [  7.0032,  11.854 ],\n",
              "       [  5.8598,   6.8233]])"
            ]
          },
          "execution_count": 43,
          "metadata": {},
          "output_type": "execute_result"
        }
      ],
      "source": [
        "data = np.loadtxt('data/ex0.csv', delimiter=',')\n",
        "data"
      ]
    },
    {
      "cell_type": "markdown",
      "metadata": {
        "id": "pGMGTUESqPtR"
      },
      "source": [
        "##### Loading a Matlab formatted file\n"
      ]
    },
    {
      "cell_type": "code",
      "execution_count": 44,
      "metadata": {
        "id": "1iJxnuEXqPtR"
      },
      "outputs": [
        {
          "data": {
            "text/plain": [
              "{'__header__': b'MATLAB 5.0 MAT-file, Platform: PCWIN64, Created on: Fri Sep 24 13:14:58 2021',\n",
              " '__version__': '1.0',\n",
              " '__globals__': [],\n",
              " 'X': array([[ 0.,  0.,  0., ...,  0.,  0.,  0.],\n",
              "        [ 0.,  0.,  0., ...,  0.,  0.,  0.],\n",
              "        [ 0.,  0.,  0., ...,  0.,  0.,  0.],\n",
              "        ..., \n",
              "        [ 0.,  0.,  0., ...,  0.,  0.,  0.],\n",
              "        [ 0.,  0.,  0., ...,  0.,  0.,  0.],\n",
              "        [ 0.,  0.,  0., ...,  0.,  0.,  0.]]),\n",
              " 'y': array([[10],\n",
              "        [10],\n",
              "        [10],\n",
              "        [10],\n",
              "        [10],\n",
              "        [10],\n",
              "        [10],\n",
              "        [10],\n",
              "        [10],\n",
              "        [10]], dtype=uint8)}"
            ]
          },
          "execution_count": 44,
          "metadata": {},
          "output_type": "execute_result"
        }
      ],
      "source": [
        "data = scipy.io.loadmat('data/ex3data1.mat')\n",
        "data"
      ]
    },
    {
      "cell_type": "markdown",
      "metadata": {
        "id": "yAbXOypqqPtR"
      },
      "source": [
        "## Manipulating matrices\n",
        "\n",
        "### Indexing and Slicing\n"
      ]
    },
    {
      "cell_type": "markdown",
      "metadata": {
        "id": "T3mqdPl2qPtR"
      },
      "source": [
        "#### `a[start:end]` - items start through end-1\n",
        "\n",
        "#### `a[start:]` - items start through the rest of the array\n",
        "\n",
        "#### `a[:end]` - items from the beginning through end-1\n",
        "\n",
        "#### `a[:]` - a copy of the whole array\n",
        "\n",
        "##### There is also the step value, which can be used with any of the above:\n",
        "\n",
        "#### `a[start:end:step]` - start through not past end, by step\n"
      ]
    },
    {
      "cell_type": "code",
      "execution_count": 45,
      "metadata": {
        "id": "Jb2pyFjTqPtR"
      },
      "outputs": [
        {
          "data": {
            "text/plain": [
              "array([0, 1, 2, 3, 4, 5, 6, 7, 8, 9])"
            ]
          },
          "execution_count": 45,
          "metadata": {},
          "output_type": "execute_result"
        }
      ],
      "source": [
        "x = np.arange(10)\n",
        "x"
      ]
    },
    {
      "cell_type": "code",
      "execution_count": 46,
      "metadata": {
        "id": "IOFXLcszqPtR"
      },
      "outputs": [
        {
          "data": {
            "text/plain": [
              "array([0, 1, 2, 3, 4, 5, 6, 7, 8, 9])"
            ]
          },
          "execution_count": 46,
          "metadata": {},
          "output_type": "execute_result"
        }
      ],
      "source": [
        "x[:]"
      ]
    },
    {
      "cell_type": "code",
      "execution_count": 47,
      "metadata": {
        "id": "7GQifaShqPtR"
      },
      "outputs": [
        {
          "data": {
            "text/plain": [
              "array([1, 2, 3, 4, 5, 6, 7, 8, 9])"
            ]
          },
          "execution_count": 47,
          "metadata": {},
          "output_type": "execute_result"
        }
      ],
      "source": [
        "x[1:]"
      ]
    },
    {
      "cell_type": "code",
      "execution_count": 48,
      "metadata": {
        "id": "dsTVndo5qPtR"
      },
      "outputs": [
        {
          "data": {
            "text/plain": [
              "array([0, 1, 2, 3, 4])"
            ]
          },
          "execution_count": 48,
          "metadata": {},
          "output_type": "execute_result"
        }
      ],
      "source": [
        "x[:5]"
      ]
    },
    {
      "cell_type": "code",
      "execution_count": 49,
      "metadata": {
        "id": "fEco20TiqPtR"
      },
      "outputs": [
        {
          "data": {
            "text/plain": [
              "2"
            ]
          },
          "execution_count": 49,
          "metadata": {},
          "output_type": "execute_result"
        }
      ],
      "source": [
        "x[2]"
      ]
    },
    {
      "cell_type": "code",
      "execution_count": 50,
      "metadata": {
        "id": "USj5A2FTqPtR"
      },
      "outputs": [
        {
          "data": {
            "text/plain": [
              "array([1, 3, 5])"
            ]
          },
          "execution_count": 50,
          "metadata": {},
          "output_type": "execute_result"
        }
      ],
      "source": [
        "x[1:7:2]"
      ]
    },
    {
      "cell_type": "markdown",
      "metadata": {
        "id": "GqYaPqTPqPtR"
      },
      "source": [
        "#### Negative indices\n",
        "\n",
        "##### `a[-1]` - last item in the array\n",
        "\n",
        "##### `a[-2:]` - last two items in the array\n",
        "\n",
        "##### `a[:-2]` - everything except the last two items\n"
      ]
    },
    {
      "cell_type": "code",
      "execution_count": 51,
      "metadata": {
        "id": "9FU5A4UzqPtR"
      },
      "outputs": [
        {
          "data": {
            "text/plain": [
              "array([0, 1, 2, 3, 4, 5, 6, 7])"
            ]
          },
          "execution_count": 51,
          "metadata": {},
          "output_type": "execute_result"
        }
      ],
      "source": [
        "x[:-2]"
      ]
    },
    {
      "cell_type": "markdown",
      "metadata": {
        "id": "K8dNQJutqPtR"
      },
      "source": [
        "##### 2d matrices are accessed in the row, column order\n"
      ]
    },
    {
      "cell_type": "code",
      "execution_count": 52,
      "metadata": {
        "id": "2bP5cbHaqPtS"
      },
      "outputs": [
        {
          "data": {
            "text/plain": [
              "array([[1, 2, 3],\n",
              "       [4, 5, 6],\n",
              "       [7, 8, 9]])"
            ]
          },
          "execution_count": 52,
          "metadata": {},
          "output_type": "execute_result"
        }
      ],
      "source": [
        "arr2d = np.array([[1, 2, 3], [4, 5, 6], [7, 8, 9]])\n",
        "arr2d"
      ]
    },
    {
      "cell_type": "code",
      "execution_count": 53,
      "metadata": {
        "id": "kJ5WwFjeqPtS"
      },
      "outputs": [
        {
          "data": {
            "text/plain": [
              "array([7, 8, 9])"
            ]
          },
          "execution_count": 53,
          "metadata": {},
          "output_type": "execute_result"
        }
      ],
      "source": [
        "arr2d[2]"
      ]
    },
    {
      "cell_type": "code",
      "execution_count": 54,
      "metadata": {
        "id": "hCGmBG0GqPtS"
      },
      "outputs": [
        {
          "data": {
            "text/plain": [
              "array([1, 2, 3])"
            ]
          },
          "execution_count": 54,
          "metadata": {},
          "output_type": "execute_result"
        }
      ],
      "source": [
        "arr2d[0]"
      ]
    },
    {
      "cell_type": "code",
      "execution_count": 55,
      "metadata": {
        "id": "BzapKiHzqPtS"
      },
      "outputs": [
        {
          "data": {
            "text/plain": [
              "2"
            ]
          },
          "execution_count": 55,
          "metadata": {},
          "output_type": "execute_result"
        }
      ],
      "source": [
        "arr2d[0,1]"
      ]
    },
    {
      "cell_type": "markdown",
      "metadata": {
        "id": "aMlgEZTkqPtS"
      },
      "source": [
        "## Boolean indexing\n",
        "\n",
        "#### Index selection can be done by filtering elements with boolean values\n"
      ]
    },
    {
      "cell_type": "code",
      "execution_count": 56,
      "metadata": {
        "id": "gnn5svJ7qPtS"
      },
      "outputs": [
        {
          "data": {
            "text/plain": [
              "array([['The', 'quick', 'brown'],\n",
              "       ['fox', 'jumped', 'over'],\n",
              "       ['the', 'lazy', 'dog']],\n",
              "      dtype='<U6')"
            ]
          },
          "execution_count": 56,
          "metadata": {},
          "output_type": "execute_result"
        }
      ],
      "source": [
        "mat = np.array(['The', 'quick', 'brown', 'fox', 'jumped', 'over', 'the', 'lazy', 'dog']).reshape((3,3))\n",
        "mat"
      ]
    },
    {
      "cell_type": "code",
      "execution_count": 57,
      "metadata": {
        "id": "k9CJhmifqPtS"
      },
      "outputs": [
        {
          "data": {
            "text/plain": [
              "array([[ True, False,  True],\n",
              "       [ True,  True, False],\n",
              "       [False,  True,  True]], dtype=bool)"
            ]
          },
          "execution_count": 57,
          "metadata": {},
          "output_type": "execute_result"
        }
      ],
      "source": [
        "rand = np.random.randn(3,3)>0\n",
        "rand"
      ]
    },
    {
      "cell_type": "code",
      "execution_count": 58,
      "metadata": {
        "id": "ZngCoCSPqPtS"
      },
      "outputs": [
        {
          "data": {
            "text/plain": [
              "array(['The', 'brown', 'fox', 'jumped', 'lazy', 'dog'],\n",
              "      dtype='<U6')"
            ]
          },
          "execution_count": 58,
          "metadata": {},
          "output_type": "execute_result"
        }
      ],
      "source": [
        "mat[rand]"
      ]
    },
    {
      "cell_type": "markdown",
      "metadata": {
        "id": "aY1NE9_mqPtS"
      },
      "source": [
        "## Flattening\n",
        "\n",
        "### Reshaping from a higher dimensional to one dimensional order is called flattening\n"
      ]
    },
    {
      "cell_type": "code",
      "execution_count": 59,
      "metadata": {
        "id": "Co-hiUKZqPtS"
      },
      "outputs": [
        {
          "data": {
            "text/plain": [
              "array([[0, 1, 2],\n",
              "       [3, 4, 5],\n",
              "       [6, 7, 8]])"
            ]
          },
          "execution_count": 59,
          "metadata": {},
          "output_type": "execute_result"
        }
      ],
      "source": [
        "arr = np.arange(9).reshape((3,3))\n",
        "arr"
      ]
    },
    {
      "cell_type": "markdown",
      "metadata": {
        "id": "KbxKyCu8qPtS"
      },
      "source": [
        "##### The `flatten()` function returns a copy of the array\n"
      ]
    },
    {
      "cell_type": "code",
      "execution_count": 60,
      "metadata": {
        "id": "tejWJmg9qPtS"
      },
      "outputs": [
        {
          "data": {
            "text/plain": [
              "array([0, 1, 2, 3, 4, 5, 6, 7, 8])"
            ]
          },
          "execution_count": 60,
          "metadata": {},
          "output_type": "execute_result"
        }
      ],
      "source": [
        "arr.flatten()"
      ]
    },
    {
      "cell_type": "markdown",
      "metadata": {
        "id": "dpDpZj38qPtS"
      },
      "source": [
        "##### flattening can be done columnwise\n"
      ]
    },
    {
      "cell_type": "code",
      "execution_count": 61,
      "metadata": {
        "id": "_LJyQkV_qPtS"
      },
      "outputs": [
        {
          "data": {
            "text/plain": [
              "array([0, 3, 6, 1, 4, 7, 2, 5, 8])"
            ]
          },
          "execution_count": 61,
          "metadata": {},
          "output_type": "execute_result"
        }
      ],
      "source": [
        "arr.flatten('F')"
      ]
    },
    {
      "cell_type": "markdown",
      "metadata": {
        "id": "Ak9lXrgfqPtS"
      },
      "source": [
        "##### the `ravel()` function doesn't return a copy of the underlying data\n"
      ]
    },
    {
      "cell_type": "code",
      "execution_count": 62,
      "metadata": {
        "id": "3_EQ677KqPtS"
      },
      "outputs": [
        {
          "data": {
            "text/plain": [
              "array([0, 1, 2, 3, 4, 5, 6, 7, 8])"
            ]
          },
          "execution_count": 62,
          "metadata": {},
          "output_type": "execute_result"
        }
      ],
      "source": [
        "arr.ravel()"
      ]
    },
    {
      "cell_type": "markdown",
      "metadata": {
        "id": "lyrTJkksqPtS"
      },
      "source": [
        "## Vector assignments\n",
        "\n",
        "### Python doesn't create copies of underlying data on assignment statements\n"
      ]
    },
    {
      "cell_type": "code",
      "execution_count": 63,
      "metadata": {
        "id": "LpLzz_2EqPtT"
      },
      "outputs": [
        {
          "data": {
            "text/plain": [
              "array([0, 1, 2, 3, 4, 5, 6, 7, 8, 9])"
            ]
          },
          "execution_count": 63,
          "metadata": {},
          "output_type": "execute_result"
        }
      ],
      "source": [
        "arr = np.arange(10)\n",
        "arr"
      ]
    },
    {
      "cell_type": "markdown",
      "metadata": {
        "id": "AKXBje5QqPtT"
      },
      "source": [
        "##### create a reference to some elements in the array and reassign them\n"
      ]
    },
    {
      "cell_type": "code",
      "execution_count": 64,
      "metadata": {
        "id": "JtdrrkxOqPtT"
      },
      "outputs": [
        {
          "data": {
            "text/plain": [
              "array([4, 5, 6, 7])"
            ]
          },
          "execution_count": 64,
          "metadata": {},
          "output_type": "execute_result"
        }
      ],
      "source": [
        "slice=arr[4:8]\n",
        "slice"
      ]
    },
    {
      "cell_type": "code",
      "execution_count": 65,
      "metadata": {
        "id": "aDNLQ7pRqPtT"
      },
      "outputs": [
        {
          "data": {
            "text/plain": [
              "array([-5, -5, -5, -5])"
            ]
          },
          "execution_count": 65,
          "metadata": {},
          "output_type": "execute_result"
        }
      ],
      "source": [
        "slice[:]=-5\n",
        "slice"
      ]
    },
    {
      "cell_type": "code",
      "execution_count": 66,
      "metadata": {
        "id": "gwk16I3yqPtT"
      },
      "outputs": [
        {
          "data": {
            "text/plain": [
              "array([-5, 50, -5, -5])"
            ]
          },
          "execution_count": 66,
          "metadata": {},
          "output_type": "execute_result"
        }
      ],
      "source": [
        "slice[1]=50\n",
        "slice"
      ]
    },
    {
      "cell_type": "code",
      "execution_count": 67,
      "metadata": {
        "id": "UPZHfHcBqPtT"
      },
      "outputs": [
        {
          "data": {
            "text/plain": [
              "array([ 0,  1,  2,  3, -5, 50, -5, -5,  8,  9])"
            ]
          },
          "execution_count": 67,
          "metadata": {},
          "output_type": "execute_result"
        }
      ],
      "source": [
        "arr"
      ]
    },
    {
      "cell_type": "markdown",
      "metadata": {
        "id": "ljLkkydVqPtT"
      },
      "source": [
        "###### now create a copy of the array explicitly and reassign\n"
      ]
    },
    {
      "cell_type": "code",
      "execution_count": 68,
      "metadata": {
        "id": "nJsz0O5bqPtT"
      },
      "outputs": [
        {
          "data": {
            "text/plain": [
              "array([ 0,  1,  2,  3, -5, 50, -5, -5,  8,  9])"
            ]
          },
          "execution_count": 68,
          "metadata": {},
          "output_type": "execute_result"
        }
      ],
      "source": [
        "arr_copy=arr.copy()\n",
        "arr_copy"
      ]
    },
    {
      "cell_type": "code",
      "execution_count": 69,
      "metadata": {
        "id": "lmnbWKPnqPtT"
      },
      "outputs": [
        {
          "data": {
            "text/plain": [
              "array([ 0,  1,  2,  3, 20, 20, 20, 20,  8,  9])"
            ]
          },
          "execution_count": 69,
          "metadata": {},
          "output_type": "execute_result"
        }
      ],
      "source": [
        "arr_copy[4:8]=20\n",
        "arr_copy"
      ]
    },
    {
      "cell_type": "markdown",
      "metadata": {
        "id": "tu8iP_OlqPtT"
      },
      "source": [
        "##### The original array is unchanged\n"
      ]
    },
    {
      "cell_type": "code",
      "execution_count": 70,
      "metadata": {
        "id": "t_o_2jXwqPtT"
      },
      "outputs": [
        {
          "data": {
            "text/plain": [
              "array([ 0,  1,  2,  3, -5, 50, -5, -5,  8,  9])"
            ]
          },
          "execution_count": 70,
          "metadata": {},
          "output_type": "execute_result"
        }
      ],
      "source": [
        "arr"
      ]
    },
    {
      "cell_type": "markdown",
      "metadata": {
        "id": "ctYcpEh6qPtT"
      },
      "source": [
        "## Horizontal and vertical concatenation\n",
        "\n",
        "### There are two ways to concatenate\n"
      ]
    },
    {
      "cell_type": "code",
      "execution_count": 71,
      "metadata": {
        "id": "wc4PoTQ7qPtT"
      },
      "outputs": [],
      "source": [
        "mat = np.array(['The', 'quick', 'brown', 'fox'])\n",
        "mat2 = np.array(['jumped', 'over', 'the', 'lazy'])"
      ]
    },
    {
      "cell_type": "markdown",
      "metadata": {
        "id": "RHXPfpXTqPtT"
      },
      "source": [
        "##### Method 1: Use stacking\n"
      ]
    },
    {
      "cell_type": "code",
      "execution_count": 72,
      "metadata": {
        "id": "RJpzV-nXqPtT"
      },
      "outputs": [
        {
          "data": {
            "text/plain": [
              "array(['The', 'quick', 'brown', 'fox', 'jumped', 'over', 'the', 'lazy'],\n",
              "      dtype='<U6')"
            ]
          },
          "execution_count": 72,
          "metadata": {},
          "output_type": "execute_result"
        }
      ],
      "source": [
        "np.hstack((mat,mat2))"
      ]
    },
    {
      "cell_type": "code",
      "execution_count": 73,
      "metadata": {
        "id": "ZNpx0fMIqPtT"
      },
      "outputs": [
        {
          "data": {
            "text/plain": [
              "array([['The', 'quick', 'brown', 'fox'],\n",
              "       ['jumped', 'over', 'the', 'lazy']],\n",
              "      dtype='<U6')"
            ]
          },
          "execution_count": 73,
          "metadata": {},
          "output_type": "execute_result"
        }
      ],
      "source": [
        "np.vstack((mat,mat2))"
      ]
    },
    {
      "cell_type": "code",
      "execution_count": 74,
      "metadata": {
        "id": "6fi_8R8gqPtU"
      },
      "outputs": [
        {
          "data": {
            "text/plain": [
              "array([['The', 'jumped'],\n",
              "       ['quick', 'over'],\n",
              "       ['brown', 'the'],\n",
              "       ['fox', 'lazy']],\n",
              "      dtype='<U6')"
            ]
          },
          "execution_count": 74,
          "metadata": {},
          "output_type": "execute_result"
        }
      ],
      "source": [
        "np.column_stack((mat,mat2))"
      ]
    },
    {
      "cell_type": "markdown",
      "metadata": {
        "id": "_cF07asKqPtU"
      },
      "source": [
        "##### Method 2: Use the `concatenate()` function applied to an axis\n"
      ]
    },
    {
      "cell_type": "code",
      "execution_count": 75,
      "metadata": {
        "id": "IQQbDgIPqPtU"
      },
      "outputs": [
        {
          "data": {
            "text/plain": [
              "array([[ 0,  1,  2,  3],\n",
              "       [ 4,  5,  6,  7],\n",
              "       [ 8,  9, 10, 11]])"
            ]
          },
          "execution_count": 75,
          "metadata": {},
          "output_type": "execute_result"
        }
      ],
      "source": [
        "arr = np.arange(12).reshape((3, 4))\n",
        "arr"
      ]
    },
    {
      "cell_type": "code",
      "execution_count": 76,
      "metadata": {
        "id": "9tvT1KtTqPtU"
      },
      "outputs": [
        {
          "data": {
            "text/plain": [
              "array([[ 0,  1,  2,  3,  0,  1,  2,  3],\n",
              "       [ 4,  5,  6,  7,  4,  5,  6,  7],\n",
              "       [ 8,  9, 10, 11,  8,  9, 10, 11]])"
            ]
          },
          "execution_count": 76,
          "metadata": {},
          "output_type": "execute_result"
        }
      ],
      "source": [
        "np.concatenate((arr,arr), axis=1)"
      ]
    },
    {
      "cell_type": "code",
      "execution_count": 77,
      "metadata": {
        "id": "4YJgL0erqPtU"
      },
      "outputs": [
        {
          "data": {
            "text/plain": [
              "array([[ 0,  1,  2,  3],\n",
              "       [ 4,  5,  6,  7],\n",
              "       [ 8,  9, 10, 11],\n",
              "       [ 0,  1,  2,  3],\n",
              "       [ 4,  5,  6,  7],\n",
              "       [ 8,  9, 10, 11]])"
            ]
          },
          "execution_count": 77,
          "metadata": {},
          "output_type": "execute_result"
        }
      ],
      "source": [
        "np.concatenate((arr,arr), axis=0)"
      ]
    },
    {
      "cell_type": "code",
      "execution_count": 78,
      "metadata": {
        "id": "Pa2RixNDqPtU"
      },
      "outputs": [
        {
          "data": {
            "text/plain": [
              "array([0, 1, 2, 3, 4, 0, 1, 2, 3, 4])"
            ]
          },
          "execution_count": 78,
          "metadata": {},
          "output_type": "execute_result"
        }
      ],
      "source": [
        "arr = np.arange(5)\n",
        "np.concatenate((arr,arr), axis=0)"
      ]
    },
    {
      "cell_type": "markdown",
      "metadata": {
        "id": "fN3xuTnUqPtU"
      },
      "source": [
        "## Matrix multiplication\n"
      ]
    },
    {
      "cell_type": "code",
      "execution_count": 79,
      "metadata": {
        "id": "TTkiRXBaqPtU"
      },
      "outputs": [
        {
          "data": {
            "text/plain": [
              "array([[ 30,  36,  42],\n",
              "       [ 66,  81,  96],\n",
              "       [102, 126, 150]])"
            ]
          },
          "execution_count": 79,
          "metadata": {},
          "output_type": "execute_result"
        }
      ],
      "source": [
        "x=np.array([[1,2,3], [4,5,6], [7,8,9]])\n",
        "y=np.array([[1,2,3], [4,5,6], [7,8,9]])\n",
        "np.dot(x,y)"
      ]
    },
    {
      "cell_type": "markdown",
      "metadata": {
        "id": "Cc-L1K5KqPtU"
      },
      "source": [
        "##### Matrix multiplication is done using the `dot()` function\n"
      ]
    },
    {
      "cell_type": "code",
      "execution_count": 80,
      "metadata": {
        "id": "uvi5Fn70qPtU"
      },
      "outputs": [
        {
          "data": {
            "text/plain": [
              "array([[ 30,  36,  42],\n",
              "       [ 66,  81,  96],\n",
              "       [102, 126, 150]])"
            ]
          },
          "execution_count": 80,
          "metadata": {},
          "output_type": "execute_result"
        }
      ],
      "source": [
        "x.dot(y)"
      ]
    },
    {
      "cell_type": "markdown",
      "metadata": {
        "id": "EYLLlsS0qPtU"
      },
      "source": [
        "##### Element-wise multiplication using the '\\*' operator\n"
      ]
    },
    {
      "cell_type": "code",
      "execution_count": 81,
      "metadata": {
        "id": "cbu8wvQ_qPtU"
      },
      "outputs": [
        {
          "data": {
            "text/plain": [
              "array([[ 1,  4,  9],\n",
              "       [16, 25, 36],\n",
              "       [49, 64, 81]])"
            ]
          },
          "execution_count": 81,
          "metadata": {},
          "output_type": "execute_result"
        }
      ],
      "source": [
        "x*y"
      ]
    },
    {
      "cell_type": "markdown",
      "metadata": {
        "id": "WSMBllUJqPtU"
      },
      "source": [
        "##### Element-wise squaring\n"
      ]
    },
    {
      "cell_type": "code",
      "execution_count": 82,
      "metadata": {
        "id": "U8cDsEbAqPtU"
      },
      "outputs": [
        {
          "data": {
            "text/plain": [
              "array([[ 1,  4,  9],\n",
              "       [16, 25, 36],\n",
              "       [49, 64, 81]], dtype=int32)"
            ]
          },
          "execution_count": 82,
          "metadata": {},
          "output_type": "execute_result"
        }
      ],
      "source": [
        "x**2"
      ]
    },
    {
      "cell_type": "markdown",
      "metadata": {
        "id": "DD0HMEbVqPtU"
      },
      "source": [
        "##### Element-wise reciprical\n"
      ]
    },
    {
      "cell_type": "code",
      "execution_count": 83,
      "metadata": {
        "id": "QmGfKTTcqPtU"
      },
      "outputs": [
        {
          "data": {
            "text/plain": [
              "array([[ 1.        ,  0.5       ,  0.33333333],\n",
              "       [ 0.25      ,  0.2       ,  0.16666667],\n",
              "       [ 0.14285714,  0.125     ,  0.11111111]])"
            ]
          },
          "execution_count": 83,
          "metadata": {},
          "output_type": "execute_result"
        }
      ],
      "source": [
        "1./x"
      ]
    },
    {
      "cell_type": "markdown",
      "metadata": {
        "id": "SKfGmYngqPtU"
      },
      "source": [
        "##### Element-wise logarithms/exponents\n"
      ]
    },
    {
      "cell_type": "code",
      "execution_count": 84,
      "metadata": {
        "id": "BM6COcgNqPtV"
      },
      "outputs": [
        {
          "data": {
            "text/plain": [
              "array([[ 0.        ,  0.69314718,  1.09861229],\n",
              "       [ 1.38629436,  1.60943791,  1.79175947],\n",
              "       [ 1.94591015,  2.07944154,  2.19722458]])"
            ]
          },
          "execution_count": 84,
          "metadata": {},
          "output_type": "execute_result"
        }
      ],
      "source": [
        "np.log(x)"
      ]
    },
    {
      "cell_type": "code",
      "execution_count": 85,
      "metadata": {
        "id": "RD0UptCRqPtV"
      },
      "outputs": [
        {
          "data": {
            "text/plain": [
              "array([[  2.71828183e+00,   7.38905610e+00,   2.00855369e+01],\n",
              "       [  5.45981500e+01,   1.48413159e+02,   4.03428793e+02],\n",
              "       [  1.09663316e+03,   2.98095799e+03,   8.10308393e+03]])"
            ]
          },
          "execution_count": 85,
          "metadata": {},
          "output_type": "execute_result"
        }
      ],
      "source": [
        "np.exp(x)"
      ]
    },
    {
      "cell_type": "markdown",
      "metadata": {
        "id": "A_bQkHwEqPtV"
      },
      "source": [
        "##### Element-wise addition\n"
      ]
    },
    {
      "cell_type": "code",
      "execution_count": 86,
      "metadata": {
        "id": "swp2MwrxqPtV"
      },
      "outputs": [
        {
          "data": {
            "text/plain": [
              "array([[ 2,  3,  4],\n",
              "       [ 5,  6,  7],\n",
              "       [ 8,  9, 10]])"
            ]
          },
          "execution_count": 86,
          "metadata": {},
          "output_type": "execute_result"
        }
      ],
      "source": [
        "1+x"
      ]
    },
    {
      "cell_type": "markdown",
      "metadata": {
        "id": "PHMYiTj0qPtV"
      },
      "source": [
        "### Transpose of a matrix\n"
      ]
    },
    {
      "cell_type": "code",
      "execution_count": 87,
      "metadata": {
        "id": "i4Se9PUjqPtV"
      },
      "outputs": [
        {
          "data": {
            "text/plain": [
              "array([[1, 4, 7],\n",
              "       [2, 5, 8],\n",
              "       [3, 6, 9]])"
            ]
          },
          "execution_count": 87,
          "metadata": {},
          "output_type": "execute_result"
        }
      ],
      "source": [
        "x.T"
      ]
    },
    {
      "cell_type": "markdown",
      "metadata": {
        "id": "XntxWEysqPtV"
      },
      "source": [
        "### Maximum and minimum of matrix values\n"
      ]
    },
    {
      "cell_type": "code",
      "execution_count": 88,
      "metadata": {
        "id": "_vBvZ4JpqPtV"
      },
      "outputs": [
        {
          "data": {
            "text/plain": [
              "9"
            ]
          },
          "execution_count": 88,
          "metadata": {},
          "output_type": "execute_result"
        }
      ],
      "source": [
        "np.max(x)"
      ]
    },
    {
      "cell_type": "code",
      "execution_count": 89,
      "metadata": {
        "id": "eVzwfh3_qPtV"
      },
      "outputs": [
        {
          "data": {
            "text/plain": [
              "1"
            ]
          },
          "execution_count": 89,
          "metadata": {},
          "output_type": "execute_result"
        }
      ],
      "source": [
        "np.min(x)"
      ]
    },
    {
      "cell_type": "markdown",
      "metadata": {
        "id": "SDhtcU9HqPtV"
      },
      "source": [
        "### Sum and product of all elements\n"
      ]
    },
    {
      "cell_type": "code",
      "execution_count": 90,
      "metadata": {
        "id": "itaZJ0RgqPtV"
      },
      "outputs": [
        {
          "data": {
            "text/plain": [
              "45"
            ]
          },
          "execution_count": 90,
          "metadata": {},
          "output_type": "execute_result"
        }
      ],
      "source": [
        "np.sum(x)"
      ]
    },
    {
      "cell_type": "code",
      "execution_count": 91,
      "metadata": {
        "id": "Mptj1L13qPtV"
      },
      "outputs": [
        {
          "data": {
            "text/plain": [
              "array([12, 15, 18])"
            ]
          },
          "execution_count": 91,
          "metadata": {},
          "output_type": "execute_result"
        }
      ],
      "source": [
        "np.sum(x,axis=0)"
      ]
    },
    {
      "cell_type": "code",
      "execution_count": 92,
      "metadata": {
        "id": "3ZSMdOhaqPtV"
      },
      "outputs": [
        {
          "data": {
            "text/plain": [
              "array([ 6, 15, 24])"
            ]
          },
          "execution_count": 92,
          "metadata": {},
          "output_type": "execute_result"
        }
      ],
      "source": [
        "np.sum(x,axis=1)"
      ]
    },
    {
      "cell_type": "code",
      "execution_count": 93,
      "metadata": {
        "id": "f4eGv8c1qPtV"
      },
      "outputs": [
        {
          "data": {
            "text/plain": [
              "45"
            ]
          },
          "execution_count": 93,
          "metadata": {},
          "output_type": "execute_result"
        }
      ],
      "source": [
        "np.sum(x)"
      ]
    },
    {
      "cell_type": "code",
      "execution_count": 94,
      "metadata": {
        "id": "AfY0CY30qPtV"
      },
      "outputs": [
        {
          "data": {
            "text/plain": [
              "362880"
            ]
          },
          "execution_count": 94,
          "metadata": {},
          "output_type": "execute_result"
        }
      ],
      "source": [
        "np.product(x)"
      ]
    },
    {
      "cell_type": "code",
      "execution_count": 95,
      "metadata": {
        "id": "E6sOEk-tqPtV"
      },
      "outputs": [
        {
          "data": {
            "text/plain": [
              "array([ 28,  80, 162])"
            ]
          },
          "execution_count": 95,
          "metadata": {},
          "output_type": "execute_result"
        }
      ],
      "source": [
        "np.product(x,axis=0)"
      ]
    },
    {
      "cell_type": "code",
      "execution_count": 96,
      "metadata": {
        "id": "9qyn4AwTqPtV"
      },
      "outputs": [
        {
          "data": {
            "text/plain": [
              "array([  6, 120, 504])"
            ]
          },
          "execution_count": 96,
          "metadata": {},
          "output_type": "execute_result"
        }
      ],
      "source": [
        "np.product(x,axis=1)"
      ]
    },
    {
      "cell_type": "markdown",
      "metadata": {
        "id": "4pTC1v-cqPtV"
      },
      "source": [
        "### Inverse and pseudo-inverse of a matrix\n"
      ]
    },
    {
      "cell_type": "code",
      "execution_count": 97,
      "metadata": {
        "id": "vlAgFHrXqPtW"
      },
      "outputs": [
        {
          "data": {
            "text/plain": [
              "array([[ 0.5,  0. ,  0. ],\n",
              "       [ 0. ,  0.5,  0. ],\n",
              "       [ 0. ,  0. ,  0.5]])"
            ]
          },
          "execution_count": 97,
          "metadata": {},
          "output_type": "execute_result"
        }
      ],
      "source": [
        "x=2*np.eye(3)\n",
        "np.linalg.inv(x)"
      ]
    },
    {
      "cell_type": "code",
      "execution_count": 98,
      "metadata": {
        "id": "2JuL2iFZqPtW"
      },
      "outputs": [
        {
          "data": {
            "text/plain": [
              "array([[ 0.5,  0. ,  0. ],\n",
              "       [ 0. ,  0.5,  0. ],\n",
              "       [ 0. ,  0. ,  0.5]])"
            ]
          },
          "execution_count": 98,
          "metadata": {},
          "output_type": "execute_result"
        }
      ],
      "source": [
        "np.linalg.pinv(x)"
      ]
    },
    {
      "cell_type": "markdown",
      "metadata": {
        "id": "Wh-ydN36qPtW"
      },
      "source": [
        "## Plotting data with matplotlib\n",
        "\n",
        "### Creating/clearing figures|\n",
        "\n",
        "##### Plots reside within figures\n"
      ]
    },
    {
      "cell_type": "code",
      "execution_count": 99,
      "metadata": {
        "id": "LSJetur4qPtW"
      },
      "outputs": [
        {
          "data": {
            "text/plain": [
              "<mpl_toolkits.mplot3d.art3d.Path3DCollection at 0x1afb4393b70>"
            ]
          },
          "execution_count": 99,
          "metadata": {},
          "output_type": "execute_result"
        },
        {
          "data": {
            "image/png": "[encoded data removed]",
            "text/plain": [
              "<matplotlib.figure.Figure at 0x1afb3cc4780>"
            ]
          },
          "metadata": {
            "needs_background": "light"
          },
          "output_type": "display_data"
        }
      ],
      "source": [
        "from mpl_toolkits.mplot3d import Axes3D\n",
        "fig = plt.figure()\n",
        "ax = fig.add_subplot(111, projection='3d')\n",
        "ax.scatter(np.random.randn(500), np.random.randn(500), np.random.randn(500), marker='o')"
      ]
    },
    {
      "cell_type": "markdown",
      "metadata": {
        "id": "ffWNOc_4qPtW"
      },
      "source": [
        "### Subplots\n"
      ]
    },
    {
      "cell_type": "code",
      "execution_count": 100,
      "metadata": {
        "id": "Rv_S8cyGqPtW"
      },
      "outputs": [
        {
          "data": {
            "image/png": "[encoded data removed]",
            "text/plain": [
              "<matplotlib.figure.Figure at 0x1afb3d10ac8>"
            ]
          },
          "metadata": {
            "needs_background": "light"
          },
          "output_type": "display_data"
        }
      ],
      "source": [
        "fig, axes = plt.subplots(2,2, sharex=True, sharey=True)\n",
        "color = (e for e in ['r', 'g', 'k', 'b'])\n",
        "for i in range(2):\n",
        "    for j in range(2):\n",
        "        axes[i, j].hist(np.random.randn(500), bins=50, color=next(color), alpha=0.5)"
      ]
    },
    {
      "cell_type": "code",
      "execution_count": 101,
      "metadata": {
        "id": "yLFJnYYPqPtW"
      },
      "outputs": [],
      "source": [
        "## Line color, labels, title and legend"
      ]
    },
    {
      "cell_type": "code",
      "execution_count": 102,
      "metadata": {
        "id": "srF5M9-KqPtW"
      },
      "outputs": [
        {
          "data": {
            "text/plain": [
              "[<matplotlib.lines.Line2D at 0x1afb5812390>]"
            ]
          },
          "execution_count": 102,
          "metadata": {},
          "output_type": "execute_result"
        },
        {
          "data": {
            "image/png": "[encoded data removed]",
            "text/plain": [
              "<matplotlib.figure.Figure at 0x1afb45b62e8>"
            ]
          },
          "metadata": {
            "needs_background": "light"
          },
          "output_type": "display_data"
        }
      ],
      "source": [
        "fig, axes = plt.subplots(2,2)\n",
        "axes[0,0].plot(randn(50).cumsum(), 'k--')\n",
        "axes[0,1].hist(randn(100), bins=20, color='r', alpha=0.3)\n",
        "axes[1,1].scatter(np.arange(30), np.arange(30) + 3 * randn(30), np.arange(30))\n",
        "axes[1,0].plot(randn(1000).cumsum())"
      ]
    },
    {
      "cell_type": "markdown",
      "metadata": {
        "id": "uxXT5AOWqPtW"
      },
      "source": [
        "## Control statements\n",
        "\n",
        "### For loops\n"
      ]
    },
    {
      "cell_type": "code",
      "execution_count": 103,
      "metadata": {
        "id": "SsBCOEgmqPtW"
      },
      "outputs": [
        {
          "name": "stdout",
          "output_type": "stream",
          "text": [
            "a\n",
            "b\n",
            "e\n"
          ]
        }
      ],
      "source": [
        "li = ['a', 'b', 'e']\n",
        "for e in li:\n",
        "    print(e)"
      ]
    },
    {
      "cell_type": "code",
      "execution_count": 104,
      "metadata": {
        "id": "8zy7H3cGqPtW"
      },
      "outputs": [
        {
          "name": "stdout",
          "output_type": "stream",
          "text": [
            "0 a\n",
            "1 b\n",
            "2 e\n"
          ]
        }
      ],
      "source": [
        "d = enumerate(li)\n",
        "for k,v in d:\n",
        "    print(k,v)"
      ]
    },
    {
      "cell_type": "markdown",
      "metadata": {
        "id": "AYZ1L3pZqPtW"
      },
      "source": [
        "### While loops\n"
      ]
    },
    {
      "cell_type": "code",
      "execution_count": 105,
      "metadata": {
        "id": "gc15Zd43qPtW"
      },
      "outputs": [
        {
          "name": "stdout",
          "output_type": "stream",
          "text": [
            "The count is: 0\n",
            "The count is: 1\n",
            "The count is: 2\n",
            "The count is: 3\n"
          ]
        }
      ],
      "source": [
        "count = 0\n",
        "while (count <= 3):\n",
        "   print(f'The count is: {count}')\n",
        "   count += 1"
      ]
    },
    {
      "cell_type": "markdown",
      "metadata": {
        "id": "TiAEMFn0qPtW"
      },
      "source": [
        "### break statement\n"
      ]
    },
    {
      "cell_type": "code",
      "execution_count": 106,
      "metadata": {
        "id": "qnxX5dp1qPtW"
      },
      "outputs": [
        {
          "name": "stdout",
          "output_type": "stream",
          "text": [
            "3 is a prime number\n",
            "4 equals 2*2.0\n",
            "5 is a prime number\n",
            "5 is a prime number\n",
            "5 is a prime number\n",
            "6 equals 2*3.0\n",
            "7 is a prime number\n",
            "7 is a prime number\n",
            "7 is a prime number\n",
            "7 is a prime number\n",
            "7 is a prime number\n",
            "8 equals 2*4.0\n",
            "9 is a prime number\n",
            "9 equals 3*3.0\n"
          ]
        }
      ],
      "source": [
        "for n in range(2, 10):\n",
        "    for x in range(2, n):\n",
        "        if n % x == 0:\n",
        "            print(f'{n} equals {x}*{n/x}')\n",
        "            break\n",
        "        else:\n",
        "        # loop fell through without finding a factor\n",
        "            print(f'{n} is a prime number')"
      ]
    },
    {
      "cell_type": "markdown",
      "metadata": {
        "id": "qlHyS4bWqPtW"
      },
      "source": [
        "### if-elif-else statement\n"
      ]
    },
    {
      "cell_type": "code",
      "execution_count": 107,
      "metadata": {
        "id": "XoBaWxzfqPtW"
      },
      "outputs": [
        {
          "name": "stdout",
          "output_type": "stream",
          "text": [
            "3 - Got a true expression value\n",
            "100\n"
          ]
        }
      ],
      "source": [
        "var = 100\n",
        "if var == 200:\n",
        "   print(\"1 - Got a true expression value\")\n",
        "   print(var)\n",
        "elif var == 150:\n",
        "   print(\"2 - Got a true expression value\")\n",
        "   print(var)\n",
        "elif var == 100:\n",
        "   print(\"3 - Got a true expression value\")\n",
        "   print(var)\n",
        "else:\n",
        "   print(\"4 - Got a false expression value\")\n",
        "   print(var)"
      ]
    }
  ],
  "metadata": {
    "colab": {
      "provenance": []
    },
    "kernelspec": {
      "display_name": "FCM",
      "language": "python",
      "name": "python3"
    },
    "language_info": {
      "codemirror_mode": {
        "name": "ipython",
        "version": 3
      },
      "file_extension": ".py",
      "mimetype": "text/x-python",
      "name": "python",
      "nbconvert_exporter": "python",
      "pygments_lexer": "ipython3",
      "version": "3.6.4"
    }
  },
  "nbformat": 4,
  "nbformat_minor": 0
}
