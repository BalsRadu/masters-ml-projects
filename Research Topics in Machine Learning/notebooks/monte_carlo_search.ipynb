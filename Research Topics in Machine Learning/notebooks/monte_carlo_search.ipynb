{
 "cells": [
  {
   "cell_type": "markdown",
   "metadata": {},
   "source": [
    "# Monte Carlo Tree Search (MCTS) for LLMs\n",
    "\n",
    "Original paper can be found here: https://arxiv.org/html/2406.07394v2\n"
   ]
  },
  {
   "cell_type": "markdown",
   "metadata": {},
   "source": [
    "## Setup\n"
   ]
  },
  {
   "cell_type": "code",
   "execution_count": 2,
   "metadata": {},
   "outputs": [
    {
     "data": {
      "text/markdown": [
       "Here's an interesting fact about elephants:\n",
       "\n",
       "Elephants have a highly developed sense of empathy and can recognize and respond to the emotions of other elephants, including those they don't know. In the wild, elephants will often gather around and comfort each other after a family member has died, a behavior that is rare in the animal kingdom. They'll even use physical contact like touching trunks or wrapping their bodies around each other to show affection and support. This level of emotional intelligence and social bonding is unparalleled among mammals, making elephants one of the most fascinating creatures on our planet!"
      ],
      "text/plain": [
       "<IPython.core.display.Markdown object>"
      ]
     },
     "metadata": {},
     "output_type": "display_data"
    }
   ],
   "source": [
    "import ollama\n",
    "from IPython.display import display, Markdown\n",
    "\n",
    "\n",
    "# Import the Ollama to test the chat function\n",
    "response = ollama.chat(\n",
    "    model=\"llama3.2\",\n",
    "    messages=[\n",
    "        {\n",
    "            \"role\": \"user\",\n",
    "            \"content\": \"Tell me an interesting fact about elephants\",\n",
    "        },\n",
    "    ],\n",
    ")\n",
    "display(Markdown(response[\"message\"][\"content\"]))"
   ]
  },
  {
   "cell_type": "code",
   "execution_count": 3,
   "metadata": {},
   "outputs": [
    {
     "data": {
      "text/markdown": [
       "Prompt: Count the number of words in this sentence"
      ],
      "text/plain": [
       "<IPython.core.display.Markdown object>"
      ]
     },
     "metadata": {},
     "output_type": "display_data"
    },
    {
     "data": {
      "text/markdown": [
       "Response: Let me count the words for you:\n",
       "\n",
       "1. Count\n",
       "2. the\n",
       "3. number\n",
       "4. of\n",
       "5. words\n",
       "6. in\n",
       "7. this\n",
       "8. sentence\n",
       "\n",
       "There are 8 words in this sentence."
      ],
      "text/plain": [
       "<IPython.core.display.Markdown object>"
      ]
     },
     "metadata": {},
     "output_type": "display_data"
    }
   ],
   "source": [
    "MODEL = \"llama3.2\"\n",
    "\n",
    "def chat_with_ollama(prompt):\n",
    "    \n",
    "    messages = [\n",
    "        {\n",
    "            \"role\": \"user\",\n",
    "            \"content\": prompt,\n",
    "              \"options\": {\n",
    "                \"temperature\": 1\n",
    "                },\n",
    "        },\n",
    "    ]\n",
    "    response = ollama.chat(model=MODEL, messages=messages)\n",
    "\n",
    "    #Extract the response from the Ollama\n",
    "    response_content = response[\"message\"][\"content\"]\n",
    "    if response_content:\n",
    "        return response_content\n",
    "    else:\n",
    "        return None\n",
    "    \n",
    "def interactive_chat():\n",
    "    display(Markdown(\"Welcome to the Ollama chatbot! Type 'exit' to end the conversation.\"))\n",
    "    while True:\n",
    "        user_input = input(\"You: \")\n",
    "        display(Markdown(f\"You: {user_input}\"))\n",
    "        response = chat_with_ollama(user_input)\n",
    "        display(Markdown(f\"Ollama: {response}\"))\n",
    "        if user_input == \"exit\":\n",
    "            break\n",
    "\n",
    "    \n",
    "if __name__ == \"__main__\":\n",
    "    INTERACTIVE_MODE = False\n",
    "    SINGLE_QUERY_MODE = True\n",
    "\n",
    "    if INTERACTIVE_MODE:\n",
    "        interactive_chat()\n",
    "    \n",
    "    if SINGLE_QUERY_MODE:\n",
    "        prompt = \"Count the number of words in this sentence\"\n",
    "\n",
    "        response = chat_with_ollama(prompt)\n",
    "\n",
    "        display(Markdown(f\"Prompt: {prompt}\"))\n",
    "        display(Markdown(f\"Response: {response}\"))\n",
    "    \n",
    "\n",
    "    "
   ]
  },
  {
   "cell_type": "markdown",
   "metadata": {},
   "source": [
    "### Prepering the Starting Prompts\n"
   ]
  },
  {
   "cell_type": "code",
   "execution_count": 4,
   "metadata": {},
   "outputs": [],
   "source": [
    "initial_answers = [\n",
    "    \"I don't know the answer\",\n",
    "    \"I'm not certain\",\n",
    "    \"I can't say for sure\",\n",
    "]"
   ]
  },
  {
   "cell_type": "markdown",
   "metadata": {},
   "source": [
    "### Critiquing an Answer\n"
   ]
  },
  {
   "cell_type": "code",
   "execution_count": 5,
   "metadata": {},
   "outputs": [
    {
     "data": {
      "text/markdown": [
       "To assess the draft answer, I will review it step by step:\n",
       "\n",
       "1. **Incorrect Year**: The initial statement claims that the Titanic sank in 1910, which is incorrect. The actual year of the Titanic's sinking was 1912.\n",
       "\n",
       "2. **Verification Method**: There are multiple ways to verify the correctness of this answer:\n",
       "   - **Historical Records**: Consult reputable historical sources such as official reports, news articles from the time period, and books written by historians.\n",
       "   - **Archaeological Evidence**: The wreckage of the Titanic was discovered in 1985 on the ocean floor. Analysis of the wreck and nearby artifacts can provide further confirmation.\n",
       "   - **Public Knowledge**: Most people learn about the Titanic's sinking in school or through popular media. If enough people know that it sank in 1912, then this knowledge is a strong verification method.\n",
       "\n",
       "3. **Flaws in Draft Answer**:\n",
       "   - Lack of Evidence: There is no evidence provided to support the claim that the Titanic sank in 1910.\n",
       "   - Contradiction with Known Facts: The draft answer contradicts well-established historical facts about the Titanic's sinking.\n",
       "\n",
       "4. **Recommendations for Improvement**:\n",
       "   - Include a credible source or sources that verify the date of the Titanic's sinking, such as an official report from the British Board of Trade Inquiry or another reputable historical document.\n",
       "   - Avoid making claims without supporting evidence and focus on providing accurate information to ensure trust in the answer.\n",
       "\n",
       "By considering multiple verification methods and evaluating the flaws in the draft answer, it becomes clear that the initial statement is incorrect. Providing credible sources or evidence would strengthen the claim and make it more trustworthy."
      ],
      "text/plain": [
       "<IPython.core.display.Markdown object>"
      ]
     },
     "metadata": {},
     "output_type": "display_data"
    }
   ],
   "source": [
    "def assess_response(question, preliminary_answer):\n",
    "    prompt = (\n",
    "    f\"Question: {question}\\n\"\n",
    "    f\"Preliminary Answer: {preliminary_answer}\\n\"\n",
    "    \"Please assess the draft answer. \"\n",
    "    \"Do a careful review of whether the answer is correct or not and why. \"\n",
    "    \"Consider multiple ways of verifying the correctness of the answer. \"\n",
    "    \"Point out every flaw and hold the draft answer to high standards. \"\n",
    "    \"Provide specific recommendations on how to improve the answer. \"\n",
    "    \"Think step by step. \"\n",
    "    \"Do not provide a revised answer.\"\n",
    ")\n",
    "    return chat_with_ollama(prompt)\n",
    "\n",
    "if __name__ == \"__main__\":\n",
    "    question = \"In what year did the Titanic sink?\"\n",
    "    preliminary_answer = \"The Titanic sank in 1910.\"\n",
    "\n",
    "    evaluated_response = assess_response(question, preliminary_answer)\n",
    "\n",
    "    display(Markdown(evaluated_response))\n"
   ]
  },
  {
   "cell_type": "markdown",
   "metadata": {},
   "source": [
    "### Refining the Response\n"
   ]
  },
  {
   "cell_type": "code",
   "execution_count": 6,
   "metadata": {},
   "outputs": [
    {
     "data": {
      "text/markdown": [
       "--Polished Response--\n"
      ],
      "text/plain": [
       "<IPython.core.display.Markdown object>"
      ]
     },
     "metadata": {},
     "output_type": "display_data"
    },
    {
     "data": {
      "text/markdown": [
       "Reasoning Process:\n",
       "1. Identify the question being asked, which is about the year the Titanic sank.\n",
       "2. Evaluate the preliminary answer provided, which states 1910 as the correct year.\n",
       "3. Recognize that the evaluation of the preliminary answer indicates it is incorrect.\n",
       "4. Recall historical facts related to the sinking of the Titanic.\n",
       "\n",
       "Verification:\n",
       "The Titanic sank on April 14, 1912, after colliding with an iceberg during its maiden voyage from Southampton to New York City. This event is well-documented in history and can be verified through various reliable sources, including news archives, official reports, and historical records.\n",
       "\n",
       "Final Answer: The Titanic sank in 1912."
      ],
      "text/plain": [
       "<IPython.core.display.Markdown object>"
      ]
     },
     "metadata": {},
     "output_type": "display_data"
    }
   ],
   "source": [
    "def refine_response(question, preliminary_answer, evaluation):\n",
    "    prompt = (\n",
    "    f\"Question: {question}\\n\"\n",
    "    f\"Preliminary Answer: {preliminary_answer}\\n\"\n",
    "    f\"Evaluation: {evaluation}\\n\"\n",
    "    \"Please improve the draft answer based on the critique. Follow this format: \\n\"\n",
    "    \"Reasoning Process: <step-by-step reasoning process> \\n\"\n",
    "    \"Verification: <verification of the facts> \\n\"\n",
    "    \"Final Answer: <the improved answer and verified answer>\"\n",
    ")\n",
    "    \n",
    "    return chat_with_ollama(prompt)\n",
    "\n",
    "\n",
    "if __name__ == \"__main__\":\n",
    "\n",
    "    question = \"In what year did the Titanic sink?\"\n",
    "    preliminary_answer = \"The Titanic sank in 1910.\"\n",
    "    evaluation = \"The Titanic sank in 1912, not 1910. The answer is incorrect.\"\n",
    "\n",
    "    refined_response = refine_response(question, preliminary_answer, evaluation)\n",
    "\n",
    "    display(Markdown(f\"--Polished Response--\\n\"))\n",
    "    display(Markdown(refined_response))\n"
   ]
  },
  {
   "cell_type": "markdown",
   "metadata": {},
   "source": [
    "# Rating Mechanism\n"
   ]
  },
  {
   "cell_type": "code",
   "execution_count": 7,
   "metadata": {},
   "outputs": [
    {
     "data": {
      "text/markdown": [
       "Rating: 0.8"
      ],
      "text/plain": [
       "<IPython.core.display.Markdown object>"
      ]
     },
     "metadata": {},
     "output_type": "display_data"
    }
   ],
   "source": [
    "import re\n",
    "\n",
    "def grade_response(question, answer):\n",
    "    prompt = (\n",
    "    f\"Question: {question}\\n\"\n",
    "    f\"Answer: {answer}\\n\"\n",
    "    \"As an expert on this topic, please provide a detailed critique of the answer. \"\n",
    "    \"Provide only a critique, not a suggested answer. \"\n",
    "    \"Then, rate the anwer on a scale of 0 to 100\"\n",
    "    \"The response should be in the following format: \\n\"\n",
    "    \"Critique: <detailed critique of the answer> \\n\"\n",
    "    \"Rating: <rating from 0 to 100>\"\n",
    "    )\n",
    "\n",
    "    graded_response = chat_with_ollama(prompt)\n",
    "\n",
    "    try:\n",
    "        match = re.search(r\"Rating:\\s*(\\d+)\", graded_response)\n",
    "        if match:\n",
    "            rating = int(match.group(1))\n",
    "            if rating > 95:\n",
    "                rating = 95\n",
    "            \n",
    "            rating = float(rating)/100\n",
    "        else:\n",
    "            raise ValueError(\"Rating not found in the response\")\n",
    "    except Exception as e:\n",
    "        display(Markdown(f\"Error was encountered during grading: {e}\"))\n",
    "        display(Markdown(f\"Response that caused the error was: {graded_response}\"))\n",
    "        rating = 0\n",
    "\n",
    "    return rating\n",
    "\n",
    "if __name__ == \"__main__\":\n",
    "    question = \"In what year did the Titanic sink?\"\n",
    "    answer = \"The Titanic sank in 1912.\"\n",
    "\n",
    "    rating = grade_response(question, answer)\n",
    "\n",
    "    display(Markdown(f\"Rating: {rating}\"))"
   ]
  },
  {
   "cell_type": "code",
   "execution_count": 8,
   "metadata": {},
   "outputs": [],
   "source": [
    "def direct_response(question):\n",
    "    prompt = (\n",
    "    f\"Question: {question}\\n\"\n",
    "    \"Please provide the answer with detailed reasoning. Follow this format: \\n\"\n",
    "    \"Reasoning Process: <step-by-step reasoning process> \\n\"\n",
    "    \"Verification: <verification of the facts> \\n\"\n",
    "    \"Final Answer: <the improved answer and verified answer>\\n\"\n",
    "    )\n",
    "    \"\"\n",
    "\n",
    "    ollama_response = chat_with_ollama(prompt)\n",
    "\n",
    "    try:\n",
    "        match = re.search(r\"Final Answer:\\s*(.*)\", ollama_response, re.DOTALL)\n",
    "        final_answer = match.group(1).strip() if match.group(1) else None\n",
    "    except Exception as e:\n",
    "        final_answer = None\n",
    "\n",
    "    return ollama_response, final_answer"
   ]
  },
  {
   "cell_type": "markdown",
   "metadata": {},
   "source": [
    "## Monte Carlo Tree Search\n"
   ]
  },
  {
   "cell_type": "code",
   "execution_count": 9,
   "metadata": {},
   "outputs": [
    {
     "data": {
      "text/markdown": [
       "Iteration 1/2"
      ],
      "text/plain": [
       "<IPython.core.display.Markdown object>"
      ]
     },
     "metadata": {},
     "output_type": "display_data"
    },
    {
     "data": {
      "text/markdown": [
       "Selected Node: I can't say for sure"
      ],
      "text/plain": [
       "<IPython.core.display.Markdown object>"
      ]
     },
     "metadata": {},
     "output_type": "display_data"
    },
    {
     "data": {
      "text/markdown": [
       "--Evaluation 0--"
      ],
      "text/plain": [
       "<IPython.core.display.Markdown object>"
      ]
     },
     "metadata": {},
     "output_type": "display_data"
    },
    {
     "data": {
      "text/markdown": [
       "Assessing the Draft Answer:\n",
       "\n",
       "The preliminary answer \"I can't say for sure\" is an attempt to express uncertainty, but it falls short in providing a clear and definitive response. A more accurate assessment would be that the answer is incorrect.\n",
       "\n",
       "Verifying Correctness through Multiple Sources:\n",
       "\n",
       "1. Historical Records: The sinking of the Titanic is one of the most well-documented maritime disasters in history. It occurred on April 14-15, 1912, after colliding with an iceberg in the North Atlantic Ocean.\n",
       "2. Official Reports: The British Board of Trade inquiry and the U.S. Senate investigation both concluded that the Titanic sank due to a combination of factors, including excessive speed, inadequate watertight subdivision, and insufficient lifeboat capacity.\n",
       "3. Scholarly Research: Numerous studies and publications on the Titanic's sinking have been extensively researched and documented by historians and marine archaeologists.\n",
       "\n",
       "Flaws in the Draft Answer:\n",
       "\n",
       "1. Lack of Confidence: \"I can't say for sure\" implies a lack of confidence in one's knowledge, which may be perceived as vague or uncertain.\n",
       "2. Inadequate Response: This answer does not provide any information about the Titanic sinking or when it occurred.\n",
       "3. No Evidence: There is no evidence to support this response, making it an unsubstantiated claim.\n",
       "\n",
       "Recommendations for Improvement:\n",
       "\n",
       "1. Provide a Direct Answer: Instead of expressing uncertainty, the answer should be straightforward and clear, stating that the Titanic sank in 1912.\n",
       "2. Cite Reliable Sources: Include credible sources or references to support the answer, such as historical records, official reports, or scholarly research.\n",
       "3. Show Confidence: Use language that conveys confidence and authority, such as \"According to historical records and research,\" or \"It is widely accepted by historians and experts.\"\n",
       "4. Offer Additional Information (Optional): If desired, provide additional context or details about the Titanic's sinking, such as the date of its launch or the number of lives lost.\n",
       "\n",
       "By adhering to these recommendations, a revised answer would be more accurate, informative, and effective in conveying confidence and authority."
      ],
      "text/plain": [
       "<IPython.core.display.Markdown object>"
      ]
     },
     "metadata": {},
     "output_type": "display_data"
    },
    {
     "data": {
      "text/markdown": [
       "--Refined Answer 0--"
      ],
      "text/plain": [
       "<IPython.core.display.Markdown object>"
      ]
     },
     "metadata": {},
     "output_type": "display_data"
    },
    {
     "data": {
      "text/markdown": [
       "Reasoning Process:\n",
       "1. The question asks for the year the Titanic sank, which requires a direct and clear response.\n",
       "2. A preliminary answer of \"I can't say for sure\" is insufficient and should be revised to provide a definitive statement.\n",
       "3. Verifying facts through multiple sources (historical records, official reports, scholarly research) confirms that the Titanic sank in 1912.\n",
       "\n",
       "Verification:\n",
       "1. Historical Records: The sinking of the Titanic on April 14-15, 1912, is well-documented and verified by numerous sources.\n",
       "2. Official Reports: The British Board of Trade inquiry and the U.S. Senate investigation concluded that the Titanic sank due to a combination of factors, including excessive speed, inadequate watertight subdivision, and insufficient lifeboat capacity, all of which occurred in 1912.\n",
       "3. Scholarly Research: Extensive research by historians and marine archaeologists has consistently placed the sinking of the Titanic at April 14-15, 1912.\n",
       "\n",
       "Final Answer:\n",
       "The Titanic sank on April 14-15, 1912. According to historical records and research, this date is widely accepted by historians and experts as the year when the ship met its demise in the North Atlantic Ocean."
      ],
      "text/plain": [
       "<IPython.core.display.Markdown object>"
      ]
     },
     "metadata": {},
     "output_type": "display_data"
    },
    {
     "data": {
      "text/markdown": [
       "--Evaluation 1--"
      ],
      "text/plain": [
       "<IPython.core.display.Markdown object>"
      ]
     },
     "metadata": {},
     "output_type": "display_data"
    },
    {
     "data": {
      "text/markdown": [
       "To assess the draft answer, let's break it down step by step:\n",
       "\n",
       "1. **Understanding the question**: The question asks for the year in which the Titanic sank. This is a factual question that requires a specific date.\n",
       "2. **Preliminary Answer Analysis**:\n",
       "The preliminary answer \"I can't say for sure\" is vague and doesn't provide any useful information. It's essential to acknowledge uncertainty, but it should be accompanied by additional context or a clearer explanation of why the correct year cannot be determined.\n",
       "\n",
       "3. **Verifying Correctness**:\n",
       "To verify the correctness of the draft answer, we need to consider multiple sources and confirm that the Titanic indeed sank in a specific year. Here are some potential flaws:\n",
       "\n",
       "* Lack of knowledge: The person answering might genuinely not know the correct year.\n",
       "* Inadequate research: Without thorough research or verification, the answer might be incorrect.\n",
       "\n",
       "4. **Flaws in the draft answer**:\n",
       "The primary flaw is the lack of clarity and specificity. The answer doesn't provide any context or evidence to support its claim that the person can't say for sure.\n",
       "\n",
       "5. **Recommendations for Improvement**:\n",
       "\n",
       "* Provide clear information: Instead of saying \"I can't say for sure,\" the answer could say, \"Unfortunately, I'm not aware of the exact year the Titanic sank\" or \"I need more information to provide an accurate answer.\"\n",
       "* Offer credible sources: The answer should mention reputable sources that confirm the correct date, such as historical records, official reports, or well-established websites.\n",
       "* Show willingness to learn: If the person answering is unsure, they can express a desire to learn more about the topic and find accurate information.\n",
       "\n",
       "In summary, while the preliminary answer has some merit (acknowledging uncertainty), it lacks clarity and specificity. To improve, it should provide context, mention credible sources, and demonstrate a willingness to learn."
      ],
      "text/plain": [
       "<IPython.core.display.Markdown object>"
      ]
     },
     "metadata": {},
     "output_type": "display_data"
    },
    {
     "data": {
      "text/markdown": [
       "--Refined Answer 1--"
      ],
      "text/plain": [
       "<IPython.core.display.Markdown object>"
      ]
     },
     "metadata": {},
     "output_type": "display_data"
    },
    {
     "data": {
      "text/markdown": [
       "Reasoning Process:\n",
       "1. **Understanding the question**: The question asks for the year in which the Titanic sank.\n",
       "2. **Research and verification**: After researching, I found that the RMS Titanic sank on April 15, 1912, after colliding with an iceberg during its maiden voyage from Southampton to New York City.\n",
       "3. **Verification of facts**: This information is widely accepted by historians and can be verified through reputable sources such as the National Geographic Society, the Smithsonian Institution, and official records from the time period.\n",
       "\n",
       "Final Answer: The Titanic sank on April 15, 1912."
      ],
      "text/plain": [
       "<IPython.core.display.Markdown object>"
      ]
     },
     "metadata": {},
     "output_type": "display_data"
    },
    {
     "data": {
      "text/markdown": [
       "--Evaluation 2--"
      ],
      "text/plain": [
       "<IPython.core.display.Markdown object>"
      ]
     },
     "metadata": {},
     "output_type": "display_data"
    },
    {
     "data": {
      "text/markdown": [
       "Let's assess the draft answer:\n",
       "\n",
       "\"The Titanic sank in 1912.\"\n",
       "\n",
       "To verify the correctness of this statement, we can consider multiple ways:\n",
       "\n",
       "1. **Historical records**: The sinking of the Titanic is one of the most well-documented maritime disasters in history. There are numerous primary sources, including logs, reports, and personal accounts from survivors, crew members, and passengers. These sources confirm that the Titanic sank on April 14, 1912.\n",
       "2. **Archaeological evidence**: The wreck of the Titanic was discovered in 1985 by a team led by Robert Ballard. The wreck is located at a depth of approximately 12,500 feet (3,800 meters) in the North Atlantic Ocean. This discovery provides physical evidence of the ship's fate and verifies its sinking date.\n",
       "3. **Maritime authority records**: Organizations like the International Maritime Organization (IMO) and the World Shipping Council maintain records of maritime incidents, including the sinking of the Titanic. These organizations have access to archives and data that confirm the incident occurred in 1912.\n",
       "\n",
       "Flaws in the draft answer:\n",
       "\n",
       "* The answer is too vague (\"I can't say for sure\"), which raises doubts about its credibility.\n",
       "* The answer lacks specificity regarding the year the Titanic sank (it's only mentioned as \"1912\").\n",
       "* The answer does not provide any concrete evidence or sources to support its claim.\n",
       "\n",
       "Recommendations for improvement:\n",
       "\n",
       "1. Provide a clear and concise statement that directly answers the question, without vagueness or uncertainty.\n",
       "2. Specify the exact year of the sinking (April 14, 1912), rather than just providing a general date range (e.g., \"in 1912\").\n",
       "3. Cite credible sources to support the answer, such as historical records, archaeological evidence, or official maritime authority documents.\n",
       "\n",
       "By addressing these flaws and following these recommendations, an improved answer would provide more confidence in its accuracy and credibility."
      ],
      "text/plain": [
       "<IPython.core.display.Markdown object>"
      ]
     },
     "metadata": {},
     "output_type": "display_data"
    },
    {
     "data": {
      "text/markdown": [
       "--Refined Answer 2--"
      ],
      "text/plain": [
       "<IPython.core.display.Markdown object>"
      ]
     },
     "metadata": {},
     "output_type": "display_data"
    },
    {
     "data": {
      "text/markdown": [
       "Reasoning Process:\n",
       "1. Review the initial statement to identify areas for improvement.\n",
       "2. Consult credible sources to gather evidence supporting the sinking date of the Titanic.\n",
       "3. Refine the answer to provide a clear, concise, and specific statement about the year of the Titanic's sinking.\n",
       "4. Include credible sources in support of the claim.\n",
       "\n",
       "Verification: \n",
       "The Titanic sank on April 14, 1912, after colliding with an iceberg during its maiden voyage from Southampton to New York City. This event is extensively documented in historical records, including logs, reports, personal accounts from survivors, crew members, and passengers. Archaeological evidence from the wreck discovered in 1985 by Robert Ballard further confirms the ship's fate. Additionally, maritime authority records maintained by organizations like the International Maritime Organization (IMO) and the World Shipping Council support this date.\n",
       "\n",
       "Final Answer: The Titanic sank on April 14, 1912. This conclusion is supported by extensive historical records, archaeological findings, and official maritime authority documentation."
      ],
      "text/plain": [
       "<IPython.core.display.Markdown object>"
      ]
     },
     "metadata": {},
     "output_type": "display_data"
    },
    {
     "data": {
      "text/markdown": [
       "Expanded Node: Reasoning Process:\n",
       "1. The question asks for the year the Titanic sank, which requires a direct and clear response.\n",
       "2. A preliminary answer of \"I can't say for sure\" is insufficient and should be revised to provide a definitive statement.\n",
       "3. Verifying facts through multiple sources (historical records, official reports, scholarly research) confirms that the Titanic sank in 1912.\n",
       "\n",
       "Verification:\n",
       "1. Historical Records: The sinking of the Titanic on April 14-15, 1912, is well-documented and verified by numerous sources.\n",
       "2. Official Reports: The British Board of Trade inquiry and the U.S. Senate investigation concluded that the Titanic sank due to a combination of factors, including excessive speed, inadequate watertight subdivision, and insufficient lifeboat capacity, all of which occurred in 1912.\n",
       "3. Scholarly Research: Extensive research by historians and marine archaeologists has consistently placed the sinking of the Titanic at April 14-15, 1912.\n",
       "\n",
       "Final Answer:\n",
       "The Titanic sank on April 14-15, 1912. According to historical records and research, this date is widely accepted by historians and experts as the year when the ship met its demise in the North Atlantic Ocean."
      ],
      "text/plain": [
       "<IPython.core.display.Markdown object>"
      ]
     },
     "metadata": {},
     "output_type": "display_data"
    },
    {
     "data": {
      "text/markdown": [
       "Simulated Reward: 0.8"
      ],
      "text/plain": [
       "<IPython.core.display.Markdown object>"
      ]
     },
     "metadata": {},
     "output_type": "display_data"
    },
    {
     "data": {
      "text/markdown": [
       "Iteration 2/2"
      ],
      "text/plain": [
       "<IPython.core.display.Markdown object>"
      ]
     },
     "metadata": {},
     "output_type": "display_data"
    },
    {
     "data": {
      "text/markdown": [
       "Selected Node: Reasoning Process:\n",
       "1. **Understanding the question**: The question asks for the year in which the Titanic sank.\n",
       "2. **Research and verification**: After researching, I found that the RMS Titanic sank on April 15, 1912, after colliding with an iceberg during its maiden voyage from Southampton to New York City.\n",
       "3. **Verification of facts**: This information is widely accepted by historians and can be verified through reputable sources such as the National Geographic Society, the Smithsonian Institution, and official records from the time period.\n",
       "\n",
       "Final Answer: The Titanic sank on April 15, 1912."
      ],
      "text/plain": [
       "<IPython.core.display.Markdown object>"
      ]
     },
     "metadata": {},
     "output_type": "display_data"
    },
    {
     "data": {
      "text/markdown": [
       "--Evaluation 0--"
      ],
      "text/plain": [
       "<IPython.core.display.Markdown object>"
      ]
     },
     "metadata": {},
     "output_type": "display_data"
    },
    {
     "data": {
      "text/markdown": [
       "Assessment:\n",
       "\n",
       "1. **Understanding the question**: The draft answer clearly states that it is answering the question \"In what year did the Titanic sink?\" This indicates a good understanding of the query.\n",
       "\n",
       "2. **Research and verification**: The information provided about the Titanic's sinking is accurate, referencing specific events (colliding with an iceberg) and dates (April 15, 1912). However, to fully verify the correctness of the answer, it would be beneficial to provide more context or sources that explain why the Titanic sank, beyond just stating the cause.\n",
       "\n",
       "3. **Verification of facts**: The draft mentions verifying information through reputable sources such as National Geographic Society and Smithsonian Institution. This shows an attempt at verification but could benefit from a more detailed explanation of what specific aspects were verified (e.g., the exact date, location, or any discrepancies between different accounts).\n",
       "\n",
       "4. **Flaws in the answer**:\n",
       "    - **Limited context**: Providing just the year without discussing why the Titanic sank might make the answer seem incomplete.\n",
       "    - **Lack of concrete evidence**: Relying on 'official records from the time period' could be seen as insufficient, especially if those records were not widely accessible or are disputed among historians.\n",
       "    - **No consideration of potential ambiguity**: There is no discussion of potential discrepancies in dates, the possibility that different sources might give slightly varying years but still be correct, or acknowledging any controversies surrounding the Titanic's sinking.\n",
       "\n",
       "5. **Recommendations for improvement**:\n",
       "    - **Add context**: Briefly describe why the Titanic sank to provide a richer understanding of the event.\n",
       "    - **Provide more detailed verification**: Specify which aspects of the information were verified through National Geographic Society, Smithsonian Institution, and official records, highlighting their reliability.\n",
       "    - **Consider ambiguity**: Acknowledge potential variations in accounts and show an awareness that historical events can sometimes be subject to interpretation or slight discrepancies.\n",
       "\n",
       "Overall, while the draft provides a straightforward answer with a general approach to verification, incorporating more details about the context of the sinking and a more thorough explanation of how facts were verified would strengthen the response."
      ],
      "text/plain": [
       "<IPython.core.display.Markdown object>"
      ]
     },
     "metadata": {},
     "output_type": "display_data"
    },
    {
     "data": {
      "text/markdown": [
       "--Refined Answer 0--"
      ],
      "text/plain": [
       "<IPython.core.display.Markdown object>"
      ]
     },
     "metadata": {},
     "output_type": "display_data"
    },
    {
     "data": {
      "text/markdown": [
       "Reasoning Process:\n",
       "\n",
       "1. **Understanding the question**: The question asks for the year in which the Titanic sank, requiring a clear understanding of the event.\n",
       "2. **Research and verification**: After researching, I found that the RMS Titanic sank on April 15, 1912, after colliding with an iceberg during its maiden voyage from Southampton to New York City. This information is widely accepted by historians, including those at the National Geographic Society, the Smithsonian Institution, and official records from the time period.\n",
       "3. **Verification of specific events**: To ensure accuracy, I cross-checked this information against multiple sources, including historical accounts of the Titanic's final voyage, survivor testimonies, and official reports from the British and American governments. These sources confirm that the collision with the iceberg occurred on April 14, 1912, and the ship sank approximately 2 hours and 40 minutes later.\n",
       "4. **Contextualization**: The Titanic sank due to a combination of factors, including its high speed in an area known to have icebergs, inadequate lookout procedures, and design flaws that made it more susceptible to damage from collisions.\n",
       "\n",
       "Verification: \n",
       "- I verified the year and date of the Titanic's sinking through reputable sources such as the National Geographic Society, which provides detailed information on historical events.\n",
       "- The Smithsonian Institution also confirms this event in their archives and online resources.\n",
       "- Official records from the British and American governments, including naval inquiries and court proceedings, provide further evidence of the Titanic's sinking.\n",
       "\n",
       "Final Answer: \n",
       "The RMS Titanic sank on April 15, 1912, due to a combination of factors including its high speed in an area known to have icebergs, inadequate lookout procedures, and design flaws that made it more susceptible to damage from collisions. This information is widely accepted by historians and can be verified through reputable sources such as the National Geographic Society, the Smithsonian Institution, and official records from the time period."
      ],
      "text/plain": [
       "<IPython.core.display.Markdown object>"
      ]
     },
     "metadata": {},
     "output_type": "display_data"
    },
    {
     "data": {
      "text/markdown": [
       "--Evaluation 1--"
      ],
      "text/plain": [
       "<IPython.core.display.Markdown object>"
      ]
     },
     "metadata": {},
     "output_type": "display_data"
    },
    {
     "data": {
      "text/markdown": [
       "Assessment:\n",
       "\n",
       "1. **Understanding the question**: The initial response correctly identifies the question as asking for the year in which the Titanic sank.\n",
       "2. **Research and verification**: The response provides accurate information that the Titanic sank on April 15, 1912, after colliding with an iceberg during its maiden voyage.\n",
       "3. **Verification of facts**: The response claims to verify the information through reputable sources such as National Geographic Society, Smithsonian Institution, and official records from the time period.\n",
       "\n",
       "However, upon closer inspection, there are several potential issues:\n",
       "\n",
       "* **Specificity**: While the answer provides a specific year (1912), it would be beneficial to include a more detailed date or context, such as April 15th, 1912, or during its maiden voyage from Southampton to New York City.\n",
       "* **Credibility of sources**: The response cites reputable sources, but it's essential to provide a clear explanation of why these sources are credible and how they were used. For instance, what specific information from these sources supports the answer?\n",
       "* **Depth of research**: A cursory search on the Titanic might not be sufficient for an academic or formal context. Was any primary source material (e.g., original documents, eyewitness accounts) consulted to verify the answer?\n",
       "* **Avoidance of assumptions**: The response assumes that April 15th is the correct date without providing additional evidence or reasoning. It's essential to explain why this date is chosen over other possible dates.\n",
       "* **Transparency about limitations**: What if there were conflicting information or uncertainties regarding the Titanic's sinking? Would the response acknowledge these limitations and provide a more nuanced answer?\n",
       "\n",
       "Recommendations for improvement:\n",
       "\n",
       "1. Provide a more detailed date (e.g., April 15th, 1912) to increase specificity and accuracy.\n",
       "2. Offer an explanation of why specific sources are considered credible and how they support the answer.\n",
       "3. Include any primary source material or expert opinions that verified the information.\n",
       "4. Acknowledge potential limitations or uncertainties in the research process.\n",
       "5. Consider providing additional context about the Titanic's sinking, such as the location, cause of the collision, or consequences of the disaster.\n",
       "\n",
       "By addressing these areas, the response can demonstrate a more rigorous and thorough approach to verifying the answer, increasing confidence in its accuracy and credibility."
      ],
      "text/plain": [
       "<IPython.core.display.Markdown object>"
      ]
     },
     "metadata": {},
     "output_type": "display_data"
    },
    {
     "data": {
      "text/markdown": [
       "--Refined Answer 1--"
      ],
      "text/plain": [
       "<IPython.core.display.Markdown object>"
      ]
     },
     "metadata": {},
     "output_type": "display_data"
    },
    {
     "data": {
      "text/markdown": [
       "Reasoning Process:\n",
       "1. **Understanding the question**: The initial response correctly identifies the question as asking for the year in which the Titanic sank, but it lacks specificity and detail.\n",
       "2. **Research and verification**: A more thorough search on the Titanic's sinking, including consulting reputable sources such as the National Geographic Society, the Smithsonian Institution, and official records from the time period, reveals that the RMS Titanic sank on April 15, 1912, after colliding with an iceberg during its maiden voyage from Southampton to New York City.\n",
       "3. **Verification of facts**: Primary source material, including eyewitness accounts and official reports, supports the accuracy of this date. Additionally, expert opinions from historians and maritime experts confirm that the Titanic sank on April 15, 1912.\n",
       "\n",
       "Final Answer: The RMS Titanic sank on April 15th, 1912, at approximately 2:20 AM, after colliding with an iceberg during its maiden voyage from Southampton to New York City. This event resulted in one of the deadliest maritime disasters in history, claiming the lives of over 1,500 people.\n",
       "\n",
       "Evaluation:\n",
       "\n",
       "1. **Understanding the question**: The revised response correctly identifies the question as asking for the year and details of the Titanic's sinking.\n",
       "2. **Research and verification**: The response provides a more thorough search on the Titanic's sinking, including consultation of reputable sources and primary material, which supports the accuracy of the answer.\n",
       "3. **Verification of facts**: The response cites eyewitness accounts, official reports, and expert opinions from historians and maritime experts to verify the information.\n",
       "\n",
       "Improvements made:\n",
       "\n",
       "* Added specificity: Provided a more detailed date (April 15th) and time (approximately 2:20 AM).\n",
       "* Cited primary sources: Included eyewitness accounts and official reports to support the accuracy of the answer.\n",
       "* Acknowledged limitations: Recognized potential variations in dates or circumstances, but provided a widely accepted account based on credible sources.\n",
       "* Provided additional context: Added information about the Titanic's sinking, including its location and impact.\n",
       "\n",
       "This revised response demonstrates a more thorough and rigorous approach to verifying the answer, increasing confidence in its accuracy and credibility."
      ],
      "text/plain": [
       "<IPython.core.display.Markdown object>"
      ]
     },
     "metadata": {},
     "output_type": "display_data"
    },
    {
     "data": {
      "text/markdown": [
       "--Evaluation 2--"
      ],
      "text/plain": [
       "<IPython.core.display.Markdown object>"
      ]
     },
     "metadata": {},
     "output_type": "display_data"
    },
    {
     "data": {
      "text/markdown": [
       "Here's a thorough assessment of the draft answer:\n",
       "\n",
       "1. **Understanding the question**: The draft answer correctly understands that the question asks for the year in which the Titanic sank.\n",
       "\n",
       "2. **Research and verification**: \n",
       "    - Research: The information about the Titanic sinking is widely known and documented.\n",
       "    - Verification:\n",
       "        * The National Geographic Society, while a reputable source, doesn't explicitly confirm the date of the sinking on their website. However, they do provide detailed information about the Titanic's history and sinking in their publications.\n",
       "        * The Smithsonian Institution also provides information on the Titanic but does not specify the exact date of its sinking on their official website.\n",
       "        * Official records from the time period are available, including news articles and reports from various sources that confirm the Titanic sank on April 15, 1912. These can be found in archives like the Library of Congress or through online databases.\n",
       "\n",
       "    However, relying solely on these sources for verification may not be sufficient to guarantee absolute accuracy without cross-checking with other reliable sources. It's also worth noting that there have been various debates and discussions among historians regarding the exact date of sinking (some argue it was April 14 or 16) due to discrepancies in reporting at the time.\n",
       "\n",
       "3. **Verification of facts**: \n",
       "    - While the draft answer claims that this information is widely accepted by historians, some nuances remain, as highlighted above.\n",
       "    - The claim that \"this information can be verified through reputable sources\" could benefit from more specificity and thoroughness in its verification process.\n",
       "\n",
       "Recommendations for improvement:\n",
       "\n",
       "- **Increase the level of detail in research**: Verify not just the main facts but also any supporting details or conflicting accounts. This could involve cross-checking with multiple, diverse sources to ensure accuracy.\n",
       "- **Clarify the degree of consensus among historians**: While stating that historians generally agree on the Titanic sinking date may be an understatement due to ongoing debates about April 14 vs. April 15, providing more context or acknowledging potential discrepancies would enhance credibility.\n",
       "- **Use more robust language for verification**: Instead of simply stating \"verified through reputable sources,\" specify which sources were consulted and in what way their information supports the answer.\n",
       "\n",
       "Overall, while the draft answer demonstrates a good foundation for its response, incorporating additional research details, nuanced explanations, and more precise verification methods can strengthen its veracity."
      ],
      "text/plain": [
       "<IPython.core.display.Markdown object>"
      ]
     },
     "metadata": {},
     "output_type": "display_data"
    },
    {
     "data": {
      "text/markdown": [
       "--Refined Answer 2--"
      ],
      "text/plain": [
       "<IPython.core.display.Markdown object>"
      ]
     },
     "metadata": {},
     "output_type": "display_data"
    },
    {
     "data": {
      "text/markdown": [
       "Here's an improved version of the draft answer:\n",
       "\n",
       "Question: In what year did the Titanic sink?\n",
       "\n",
       "Reasoning Process:\n",
       "1. **Understanding the question**: The question asks for the specific year in which the RMS Titanic sank during its ill-fated maiden voyage from Southampton to New York City.\n",
       "2. **Research and verification**:\n",
       "    - Research: Historians and maritime experts agree that the Titanic's sinking was a pivotal event in maritime history, widely studied and documented in various sources across the globe.\n",
       "    - Verification:\n",
       "        * Primary sources: Official reports from the British Board of Trade, U.S. Senate inquiries, and other primary documents confirm the Titanic sank on April 15, 1912. These records are available through online archives like the Internet Archive or by visiting institutions such as the Library of Congress.\n",
       "        * Secondary sources: Scholarly articles, books, and documentaries provide in-depth analysis and supporting evidence for this date. Notable sources include works by historians like Walter Lord, Bruce Beveridge, and Deborah Hopkinson, among others.\n",
       "        * Contemporary accounts: Newspaper articles from April 1912, as well as personal testimonies from survivors and crew members, corroborate the sinking on April 15. Examples can be found in online archives or libraries such as the National Archives (UK) or the New York Times Digital Archive.\n",
       "\n",
       "    However, it's essential to acknowledge some debate among historians regarding the precise timing of the Titanic's sinking due to discrepancies in reporting at the time:\n",
       "        * Some sources argue that the ship likely hit the iceberg around 11:40 PM on April 14, resulting in its eventual sinking by morning. This is supported by the ship's own wireless messages and reports from nearby vessels.\n",
       "        * Others propose that the Titanic may have sunk slightly earlier or later than April 15, with some estimates ranging between April 14 and 16.\n",
       "\n",
       "3. **Verification of facts**:\n",
       "    - While there is a general consensus among historians about the Titanic sinking date, it's crucial to acknowledge ongoing debates and nuances in this area.\n",
       "    - The use of \"widely accepted\" language for verification oversimplifies these discussions; instead, I've sought to incorporate more context and transparency regarding potential variations in historical interpretations.\n",
       "\n",
       "Final Answer: The RMS Titanic sank on April 15, 1912."
      ],
      "text/plain": [
       "<IPython.core.display.Markdown object>"
      ]
     },
     "metadata": {},
     "output_type": "display_data"
    },
    {
     "data": {
      "text/markdown": [
       "Expanded Node: Reasoning Process:\n",
       "\n",
       "1. **Understanding the question**: The question asks for the year in which the Titanic sank, requiring a clear understanding of the event.\n",
       "2. **Research and verification**: After researching, I found that the RMS Titanic sank on April 15, 1912, after colliding with an iceberg during its maiden voyage from Southampton to New York City. This information is widely accepted by historians, including those at the National Geographic Society, the Smithsonian Institution, and official records from the time period.\n",
       "3. **Verification of specific events**: To ensure accuracy, I cross-checked this information against multiple sources, including historical accounts of the Titanic's final voyage, survivor testimonies, and official reports from the British and American governments. These sources confirm that the collision with the iceberg occurred on April 14, 1912, and the ship sank approximately 2 hours and 40 minutes later.\n",
       "4. **Contextualization**: The Titanic sank due to a combination of factors, including its high speed in an area known to have icebergs, inadequate lookout procedures, and design flaws that made it more susceptible to damage from collisions.\n",
       "\n",
       "Verification: \n",
       "- I verified the year and date of the Titanic's sinking through reputable sources such as the National Geographic Society, which provides detailed information on historical events.\n",
       "- The Smithsonian Institution also confirms this event in their archives and online resources.\n",
       "- Official records from the British and American governments, including naval inquiries and court proceedings, provide further evidence of the Titanic's sinking.\n",
       "\n",
       "Final Answer: \n",
       "The RMS Titanic sank on April 15, 1912, due to a combination of factors including its high speed in an area known to have icebergs, inadequate lookout procedures, and design flaws that made it more susceptible to damage from collisions. This information is widely accepted by historians and can be verified through reputable sources such as the National Geographic Society, the Smithsonian Institution, and official records from the time period."
      ],
      "text/plain": [
       "<IPython.core.display.Markdown object>"
      ]
     },
     "metadata": {},
     "output_type": "display_data"
    },
    {
     "data": {
      "text/markdown": [
       "Simulated Reward: 0.8"
      ],
      "text/plain": [
       "<IPython.core.display.Markdown object>"
      ]
     },
     "metadata": {},
     "output_type": "display_data"
    },
    {
     "data": {
      "text/markdown": [
       "Most Visited Child: Reasoning Process:\n",
       "1. The question asks for the year the Titanic sank, which requires a direct and clear response.\n",
       "2. A preliminary answer of \"I can't say for sure\" is insufficient and should be revised to provide a definitive statement.\n",
       "3. Verifying facts through multiple sources (historical records, official reports, scholarly research) confirms that the Titanic sank in 1912.\n",
       "\n",
       "Verification:\n",
       "1. Historical Records: The sinking of the Titanic on April 14-15, 1912, is well-documented and verified by numerous sources.\n",
       "2. Official Reports: The British Board of Trade inquiry and the U.S. Senate investigation concluded that the Titanic sank due to a combination of factors, including excessive speed, inadequate watertight subdivision, and insufficient lifeboat capacity, all of which occurred in 1912.\n",
       "3. Scholarly Research: Extensive research by historians and marine archaeologists has consistently placed the sinking of the Titanic at April 14-15, 1912.\n",
       "\n",
       "Final Answer:\n",
       "The Titanic sank on April 14-15, 1912. According to historical records and research, this date is widely accepted by historians and experts as the year when the ship met its demise in the North Atlantic Ocean."
      ],
      "text/plain": [
       "<IPython.core.display.Markdown object>"
      ]
     },
     "metadata": {},
     "output_type": "display_data"
    },
    {
     "data": {
      "text/markdown": [
       "Best Answer: Reasoning Process:\n",
       "1. The question asks for the year the Titanic sank, which requires a direct and clear response.\n",
       "2. A preliminary answer of \"I can't say for sure\" is insufficient and should be revised to provide a definitive statement.\n",
       "3. Verifying facts through multiple sources (historical records, official reports, scholarly research) confirms that the Titanic sank in 1912.\n",
       "\n",
       "Verification:\n",
       "1. Historical Records: The sinking of the Titanic on April 14-15, 1912, is well-documented and verified by numerous sources.\n",
       "2. Official Reports: The British Board of Trade inquiry and the U.S. Senate investigation concluded that the Titanic sank due to a combination of factors, including excessive speed, inadequate watertight subdivision, and insufficient lifeboat capacity, all of which occurred in 1912.\n",
       "3. Scholarly Research: Extensive research by historians and marine archaeologists has consistently placed the sinking of the Titanic at April 14-15, 1912.\n",
       "\n",
       "Final Answer:\n",
       "The Titanic sank on April 14-15, 1912. According to historical records and research, this date is widely accepted by historians and experts as the year when the ship met its demise in the North Atlantic Ocean."
      ],
      "text/plain": [
       "<IPython.core.display.Markdown object>"
      ]
     },
     "metadata": {},
     "output_type": "display_data"
    }
   ],
   "source": [
    "import math\n",
    "import random\n",
    "import numpy as np\n",
    "\n",
    "max_children = 3\n",
    "\n",
    "class Node:\n",
    "    def __init__(self, question, answer, parent=None):\n",
    "        self.question = question\n",
    "        self.answer = answer\n",
    "        self.parent = parent\n",
    "        self.children = []\n",
    "        self.visits = 0\n",
    "        self.value = 0.0\n",
    "\n",
    "    def is_fully_expanded(self):\n",
    "        return len(self.children) >= max_children\n",
    "    \n",
    "    def best_child(self, exploration_weight=1.41):\n",
    "        choices_weights = []\n",
    "        for child in self.children:\n",
    "            if child.visits == 0:\n",
    "                weight = float(\"inf\")\n",
    "            else:\n",
    "                weight = child.value / child.visits + exploration_weight * math.sqrt(\n",
    "                    2 * math.log(self.visits) / child.visits\n",
    "                )\n",
    "            choices_weights.append(weight)\n",
    "        return self.children[np.argmax(choices_weights)]\n",
    "    \n",
    "    def most_visited_child(self):\n",
    "        return max(self.children, key=lambda child: child.visits)\n",
    "    \n",
    "    def add_child(self, child_node):\n",
    "        self.children.append(child_node)\n",
    "\n",
    "class MCTS:\n",
    "    def __init__(self, question, initial_answers, iterations=2):\n",
    "        self.question = question\n",
    "        self.initial_answers = initial_answers\n",
    "        self.iterations = iterations\n",
    "        self.root = Node(question, random.choice(initial_answers))\n",
    "\n",
    "    def search(self):\n",
    "        for i in range(self.iterations):\n",
    "            display(Markdown(f\"Iteration {i+1}/{self.iterations}\"))\n",
    "            node = self.select(self.root)\n",
    "            display(Markdown(f\"Selected Node: {node.answer}\"))\n",
    "            if not node.is_fully_expanded():\n",
    "                node = self.expand(node)\n",
    "                display(Markdown(f\"Expanded Node: {node.answer}\"))\n",
    "            reward = self.simulate(node)\n",
    "            display(Markdown(f\"Simulated Reward: {reward}\"))\n",
    "            self.backpropagate(node, reward)\n",
    "        display(Markdown(f\"Most Visited Child: {self.root.most_visited_child().answer}\"))\n",
    "        return self.root.most_visited_child().answer\n",
    "    \n",
    "    def select(self, node):\n",
    "        while node.is_fully_expanded() and node.children:\n",
    "            node = node.best_child()\n",
    "        return node\n",
    "    \n",
    "    def expand(self, node):\n",
    "        for j in range(max_children -len(node.children)):\n",
    "            child_node = Node(self.question, node.answer, parent=node)\n",
    "            node.add_child(child_node)\n",
    "\n",
    "            evaluation = assess_response(self.question, child_node.answer)\n",
    "            display(Markdown(f\"--Evaluation {j}--\"))\n",
    "            display(Markdown(evaluation))\n",
    "\n",
    "            refined_answer = refine_response(self.question, child_node.answer, evaluation)\n",
    "            display(Markdown(f\"--Refined Answer {j}--\"))\n",
    "            display(Markdown(refined_answer))\n",
    "\n",
    "            child_node.answer = refined_answer\n",
    "        return random.choice(node.children)\n",
    "    \n",
    "\n",
    "    def simulate(self, node):\n",
    "        rating = grade_response(self.question, node.answer)\n",
    "        return rating\n",
    "    \n",
    "    def backpropagate(self, node, reward):\n",
    "        while node is not None:\n",
    "            node.visits += 1\n",
    "            node.value += reward\n",
    "            node = node.parent\n",
    "\n",
    "\n",
    "if __name__ == \"__main__\":\n",
    "    question = \"In what year did the Titanic sink?\"\n",
    "    mcts = MCTS(question, initial_answers, iterations=2)\n",
    "    best_answer = mcts.search()\n",
    "\n",
    "    display(Markdown(f\"Best Answer: {best_answer}\"))"
   ]
  },
  {
   "cell_type": "markdown",
   "metadata": {},
   "source": [
    "## Benchmarking on the MATH Dataset\n"
   ]
  },
  {
   "cell_type": "code",
   "execution_count": 10,
   "metadata": {},
   "outputs": [
    {
     "name": "stderr",
     "output_type": "stream",
     "text": [
      "d:\\miniconda\\envs\\RTML\\Lib\\site-packages\\tqdm\\auto.py:21: TqdmWarning: IProgress not found. Please update jupyter and ipywidgets. See https://ipywidgets.readthedocs.io/en/stable/user_install.html\n",
      "  from .autonotebook import tqdm as notebook_tqdm\n"
     ]
    }
   ],
   "source": [
    "import pandas as pd\n",
    "from datasets import load_dataset\n",
    "import re\n",
    "\n",
    "def isolate_boxed_response(response):\n",
    "    pattern = re.compile(r'\\\\boxed{((?:[^{}]|\\{[^{}]*\\})*)}')\n",
    "    match = pattern.search(response)\n",
    "    if match:\n",
    "        return match.group(1)\n",
    "    return None\n",
    "\n",
    "def get_question_and_answer(df, row_number):\n",
    "    row = df.iloc[row_number]\n",
    "    question = row[\"problem\"]\n",
    "    answer = row[\"solution\"]\n",
    "    short_answer = isolate_boxed_response(answer)\n",
    "    level = int(row[\"level\"].split()[-1])\n",
    "    return question, answer, short_answer, level\n",
    " "
   ]
  },
  {
   "cell_type": "code",
   "execution_count": 21,
   "metadata": {},
   "outputs": [
    {
     "name": "stderr",
     "output_type": "stream",
     "text": [
      "Using the latest cached version of the dataset since lighteval/MATH couldn't be found on the Hugging Face Hub\n",
      "Found the latest cached dataset configuration 'all' at C:\\Users\\balsr\\.cache\\huggingface\\datasets\\lighteval___math\\all\\0.0.1\\4ebaf55853e6a047819819ccdb8f0d5fe809952c (last modified on Thu Oct 31 23:52:24 2024).\n"
     ]
    }
   ],
   "source": [
    "dataset = load_dataset(\"lighteval/MATH\", \"all\", split=\"test[:1000]\")\n",
    "df = pd.DataFrame(dataset)\n",
    "\n",
    "# Levels to choose from\n",
    "levels = [f\"Level {i}\" for i in range(1, 6)]\n",
    "\n",
    "# Randomly select 2 questions from each level\n",
    "selected_rows = []\n",
    "for level in levels:\n",
    "    level_df = df[df[\"level\"] == level]\n",
    "    if len(level_df) < 2:\n",
    "        raise ValueError(f\"Not enough questions for {level}.\")\n",
    "    selected_rows.extend(level_df.sample(2).index.tolist())\n",
    "\n",
    "# Shuffle the selected rows to mix questions from different levels\n",
    "random.shuffle(selected_rows)\n",
    "\n",
    "# Randomly select 1 question from the list\n",
    "row_number = random.choice(selected_rows)"
   ]
  },
  {
   "cell_type": "code",
   "execution_count": 20,
   "metadata": {},
   "outputs": [
    {
     "data": {
      "text/markdown": [
       "### Question (Level 2):"
      ],
      "text/plain": [
       "<IPython.core.display.Markdown object>"
      ]
     },
     "metadata": {},
     "output_type": "display_data"
    },
    {
     "data": {
      "text/markdown": [
       "**Problem:** Three pencils and a jumbo eraser cost $\\$1.24$. Five pencils and a jumbo eraser cost $\\$1.82$. No prices include tax. In cents, what is the cost of a pencil?"
      ],
      "text/plain": [
       "<IPython.core.display.Markdown object>"
      ]
     },
     "metadata": {},
     "output_type": "display_data"
    },
    {
     "data": {
      "text/markdown": [
       "Iteration 1/2"
      ],
      "text/plain": [
       "<IPython.core.display.Markdown object>"
      ]
     },
     "metadata": {},
     "output_type": "display_data"
    },
    {
     "data": {
      "text/markdown": [
       "Selected Node: I'm not certain"
      ],
      "text/plain": [
       "<IPython.core.display.Markdown object>"
      ]
     },
     "metadata": {},
     "output_type": "display_data"
    },
    {
     "data": {
      "text/markdown": [
       "--Evaluation 0--"
      ],
      "text/plain": [
       "<IPython.core.display.Markdown object>"
      ]
     },
     "metadata": {},
     "output_type": "display_data"
    },
    {
     "data": {
      "text/markdown": [
       "To assess the draft answer, let's break down the information provided:\n",
       "\n",
       "1. Three pencils and a jumbo eraser cost $\\$1.24$, which is equivalent to 124 cents.\n",
       "2. Five pencils and a jumbo eraser cost $\\$1.82$, which is equivalent to 182 cents.\n",
       "\n",
       "We can represent the cost of a pencil as $p$ (in cents) and the cost of a jumbo eraser as $e$ (in cents).\n",
       "\n",
       "From the given information, we can form two equations:\n",
       "\n",
       "3$p + e = 124 \\text{ (Equation 1)}$\n",
       "5$p + e = 182 \\text{ (Equation 2)}$\n",
       "\n",
       "The draft answer states that the pencil's cost is not certain. However, this lack of confidence is unwarranted.\n",
       "\n",
       "Subtracting Equation 1 from Equation 2 gives:\n",
       "\n",
       "$2p = 58 \\text{ (Equation 3)}$\n",
       "\n",
       "Dividing both sides by 2 yields:\n",
       "\n",
       "$p = 29 \\text{ cents}$\n",
       "\n",
       "This solution indicates that the pencil's cost is indeed certain, and it can be calculated using the provided equations.\n",
       "\n",
       "The draft answer fails to provide a clear explanation for why the pencil's cost cannot be determined. Upon closer inspection, we see that there is sufficient information to solve for $p$. \n",
       "\n",
       "Recommendations:\n",
       "\n",
       "1. Clearly state that the solution is based on the given data.\n",
       "2. Show all steps and work to build confidence in the calculation.\n",
       "3. Highlight any assumptions or limitations (if any) involved in the calculations.\n",
       "4. Provide a clear conclusion summarizing the findings.\n",
       "\n",
       "In this case, the draft answer can be improved by providing a more thorough explanation of the solution process and ensuring that it accurately reflects the findings based on the given data."
      ],
      "text/plain": [
       "<IPython.core.display.Markdown object>"
      ]
     },
     "metadata": {},
     "output_type": "display_data"
    },
    {
     "data": {
      "text/markdown": [
       "--Refined Answer 0--"
      ],
      "text/plain": [
       "<IPython.core.display.Markdown object>"
      ]
     },
     "metadata": {},
     "output_type": "display_data"
    },
    {
     "data": {
      "text/markdown": [
       "Reasoning Process:\n",
       "\n",
       "To determine the cost of a pencil, we can use the given information to form two equations based on the number of pencils and the jumbo eraser purchased.\n",
       "\n",
       "Let $p$ represent the cost of a pencil in cents and $e$ represent the cost of a jumbo eraser in cents. From the given information, we can write the following equations:\n",
       "\n",
       "1. Three pencils and a jumbo eraser cost $\\$1.24$, which is equivalent to 124 cents.\n",
       "\n",
       "\\[3p + e = 124 \\text{ (Equation 1)}\\]\n",
       "\n",
       "2. Five pencils and a jumbo eraser cost $\\$1.82$, which is equivalent to 182 cents.\n",
       "\n",
       "\\[5p + e = 182 \\text{ (Equation 2)}\\]\n",
       "\n",
       "Subtracting Equation 1 from Equation 2 gives:\n",
       "\n",
       "\\[2p = 58 \\text{ (Equation 3)}\\]\n",
       "\n",
       "Dividing both sides by 2 yields:\n",
       "\n",
       "\\[p = 29 \\text{ cents}\\]\n",
       "\n",
       "This solution indicates that the pencil's cost is indeed certain, and it can be calculated using the provided equations.\n",
       "\n",
       "Verification: \n",
       "The initial assessment was correct; there was sufficient information to determine the pencil's cost. The proposed improvements address this oversight by providing a clear explanation of the calculation process, ensuring that all steps are followed logically. Furthermore, the draft answer now correctly identifies any limitations or assumptions involved in the calculations (none were found). It also clearly summarizes the findings based on the given data.\n",
       "\n",
       "Final Answer: \n",
       "The pencil costs 29 cents."
      ],
      "text/plain": [
       "<IPython.core.display.Markdown object>"
      ]
     },
     "metadata": {},
     "output_type": "display_data"
    },
    {
     "data": {
      "text/markdown": [
       "--Evaluation 1--"
      ],
      "text/plain": [
       "<IPython.core.display.Markdown object>"
      ]
     },
     "metadata": {},
     "output_type": "display_data"
    },
    {
     "data": {
      "text/markdown": [
       "The preliminary answer \"I'm not certain\" does not meet the required standard for an accurate response.\n",
       "\n",
       "To determine the cost of a pencil, we need to set up equations based on the given information and solve for the variable representing the pencil's cost.\n",
       "\n",
       "Let $x$ represent the cost of one pencil in dollars. The jumbo eraser's cost can be represented as $y$. \n",
       "\n",
       "The first equation is formed from the fact that three pencils and a jumbo eraser cost $\\$1.24$: \n",
       "3x + y = 1.24\n",
       "\n",
       "The second equation comes from the fact that five pencils and a jumbo eraser cost $\\$1.82$: \n",
       "5x + y = 1.82\n",
       "\n",
       "To find the cost of one pencil, we can subtract the first equation from the second equation to eliminate $y$:\n",
       "(5x + y) - (3x + y) = 1.82 - 1.24\n",
       "This simplifies to:\n",
       "2x = 0.58\n",
       "\n",
       "Now, divide both sides by 2 to solve for x:\n",
       "x = 0.29\n",
       "\n",
       "Since the question asks for the cost in cents, we can multiply $x$ by 100 to convert it to cents:\n",
       "0.29 * 100 = 29 cents\n",
       "\n",
       "Therefore, the draft answer should be revised with a solution that clearly states the correct cost of a pencil in cents.\n",
       "\n",
       "Recommendations for improvement:\n",
       "\n",
       "1.  **Clearly state the final answer**: The preliminary answer \"I'm not certain\" does not provide any information about the solution.\n",
       "2.  **Explain the steps taken to solve the problem**: Describe each step, including setting up the equations and performing operations to eliminate variables.\n",
       "3.  **Check for accuracy**: Verify that the final answer is correct by plugging it back into the original equations or using other methods to validate the solution.\n",
       "\n",
       "By following these guidelines, a complete response would include:\n",
       "\n",
       "-   A clear statement of the final answer (in this case, 29 cents)\n",
       "-   An explanation of each step taken to solve the problem\n",
       "-   Verification that the final answer is correct\n",
       "\n",
       "Reviewing the solution and providing additional details can help ensure accuracy and provide confidence in the answer."
      ],
      "text/plain": [
       "<IPython.core.display.Markdown object>"
      ]
     },
     "metadata": {},
     "output_type": "display_data"
    },
    {
     "data": {
      "text/markdown": [
       "--Refined Answer 1--"
      ],
      "text/plain": [
       "<IPython.core.display.Markdown object>"
      ]
     },
     "metadata": {},
     "output_type": "display_data"
    },
    {
     "data": {
      "text/markdown": [
       "Here is a revised response that addresses the critique:\n",
       "\n",
       "**Problem:** Three pencils and a jumbo eraser cost $\\$1.24$. Five pencils and a jumbo eraser cost $\\$1.82$. No prices include tax. In cents, what is the cost of a pencil?\n",
       "\n",
       "**Reasoning Process:**\n",
       "\n",
       "Let $x$ represent the cost of one pencil in dollars. The jumbo eraser's cost can be represented as $y$.\n",
       "\n",
       "The first equation is formed from the fact that three pencils and a jumbo eraser cost $\\$1.24$: \n",
       "3x + y = 1.24\n",
       "\n",
       "The second equation comes from the fact that five pencils and a jumbo eraser cost $\\$1.82$: \n",
       "5x + y = 1.82\n",
       "\n",
       "To find the cost of one pencil, we can subtract the first equation from the second equation to eliminate $y$:\n",
       "(5x + y) - (3x + y) = 1.82 - 1.24\n",
       "This simplifies to:\n",
       "2x = 0.58\n",
       "\n",
       "Now, divide both sides by 2 to solve for x:\n",
       "x = 0.29\n",
       "\n",
       "Since the question asks for the cost in cents, we can multiply $x$ by 100 to convert it to cents:\n",
       "0.29 * 100 = 29 cents\n",
       "\n",
       "**Verification:**\n",
       "\n",
       "To verify that our solution is correct, let's plug $x=0.29$ back into both original equations:\n",
       "\n",
       "First equation:\n",
       "3(0.29) + y = 1.24\n",
       "0.87 + y = 1.24\n",
       "y = 1.24 - 0.87\n",
       "y = 0.37\n",
       "\n",
       "Second equation:\n",
       "5(0.29) + y = 1.82\n",
       "1.45 + y = 1.82\n",
       "y = 1.82 - 1.45\n",
       "y = 0.37\n",
       "\n",
       "Both equations yield the same value for $y$, which is consistent with our solution.\n",
       "\n",
       "**Final Answer:**\n",
       "The cost of one pencil is $\\boxed{29}$ cents."
      ],
      "text/plain": [
       "<IPython.core.display.Markdown object>"
      ]
     },
     "metadata": {},
     "output_type": "display_data"
    },
    {
     "data": {
      "text/markdown": [
       "--Evaluation 2--"
      ],
      "text/plain": [
       "<IPython.core.display.Markdown object>"
      ]
     },
     "metadata": {},
     "output_type": "display_data"
    },
    {
     "data": {
      "text/markdown": [
       "To assess the draft answer, let's analyze it step by step:\n",
       "\n",
       "1. **Understanding the problem**: The problem provides two different cost combinations for pencils and a jumbo eraser: 3 pencils + eraser = $1.24 and 5 pencils + eraser = $1.82.\n",
       "\n",
       "2. **Identifying unknowns**: We need to find the cost of a pencil in cents.\n",
       "\n",
       "3. **Looking at the draft answer**: The draft answer says \"I'm not certain.\"\n",
       "\n",
       "4. **Analyzing the problem mathematically**:\n",
       "    Let's denote the cost of one pencil as x cents and the cost of one eraser as y cents.\n",
       "    Given equations:\n",
       "        3x + y = 124 (from the first combination)\n",
       "        5x + y = 182 (from the second combination)\n",
       "\n",
       "    By subtracting the first equation from the second, we can eliminate y:\n",
       "        2x = 58\n",
       "\n",
       "    Dividing both sides by 2 gives us x:\n",
       "        x = 29\n",
       "\n",
       "5. **Verifying the draft answer**:\n",
       "   The problem does not provide any hints that would lead to uncertainty.\n",
       "   The mathematical approach clearly yields a unique solution.\n",
       "\n",
       "6. **Flaws in the draft answer**:\n",
       "   The main flaw is the lack of confidence expressed by \"I'm not certain.\"\n",
       "   There's no valid reason for doubt given the information provided and the method used to solve it.\n",
       "\n",
       "7. **Recommendations for improvement**:\n",
       "   Improve confidence by stating the solution clearly.\n",
       "   Avoid using ambiguous language like \"not certain\" when a numerical answer is readily available.\n",
       "   Consider providing step-by-step mathematical reasoning or explaining any assumptions made while solving the problem.\n",
       "   Use phrases that acknowledge effort and provide evidence of calculation, such as \"Using algebraic methods, we can find x.\"\n",
       "\n",
       "In conclusion, the draft answer lacks clarity due to uncertainty expressed unnecessarily. A correct approach would solve for x directly without hinting at uncertainty when the solution is mathematically derived."
      ],
      "text/plain": [
       "<IPython.core.display.Markdown object>"
      ]
     },
     "metadata": {},
     "output_type": "display_data"
    },
    {
     "data": {
      "text/markdown": [
       "--Refined Answer 2--"
      ],
      "text/plain": [
       "<IPython.core.display.Markdown object>"
      ]
     },
     "metadata": {},
     "output_type": "display_data"
    },
    {
     "data": {
      "text/markdown": [
       "Let's find the cost of a pencil.\n",
       "\n",
       "Reasoning Process:\n",
       "\n",
       "1. Let's denote the cost of one pencil as x cents and the cost of one eraser as y cents.\n",
       "2. Given equations:\n",
       "    3x + y = 124 (from the first combination)\n",
       "    5x + y = 182 (from the second combination)\n",
       "\n",
       "3. By subtracting the first equation from the second, we can eliminate y:\n",
       "    2x = 58\n",
       "\n",
       "4. Dividing both sides by 2 gives us x:\n",
       "    x = 29\n",
       "\n",
       "\n",
       "Verification:\n",
       "\n",
       "The solution is verified as follows: \n",
       "\n",
       "Given equations:\n",
       "3x + y = 124\n",
       "5x + y = 182\n",
       "Subtracting the first equation from the second, we get:\n",
       "2x = 58 \n",
       "Dividing both sides by 2, we get:\n",
       "x = 29\n",
       "\n",
       "Final Answer: The final answer is $\\boxed{29}$."
      ],
      "text/plain": [
       "<IPython.core.display.Markdown object>"
      ]
     },
     "metadata": {},
     "output_type": "display_data"
    },
    {
     "data": {
      "text/markdown": [
       "Expanded Node: Reasoning Process:\n",
       "\n",
       "To determine the cost of a pencil, we can use the given information to form two equations based on the number of pencils and the jumbo eraser purchased.\n",
       "\n",
       "Let $p$ represent the cost of a pencil in cents and $e$ represent the cost of a jumbo eraser in cents. From the given information, we can write the following equations:\n",
       "\n",
       "1. Three pencils and a jumbo eraser cost $\\$1.24$, which is equivalent to 124 cents.\n",
       "\n",
       "\\[3p + e = 124 \\text{ (Equation 1)}\\]\n",
       "\n",
       "2. Five pencils and a jumbo eraser cost $\\$1.82$, which is equivalent to 182 cents.\n",
       "\n",
       "\\[5p + e = 182 \\text{ (Equation 2)}\\]\n",
       "\n",
       "Subtracting Equation 1 from Equation 2 gives:\n",
       "\n",
       "\\[2p = 58 \\text{ (Equation 3)}\\]\n",
       "\n",
       "Dividing both sides by 2 yields:\n",
       "\n",
       "\\[p = 29 \\text{ cents}\\]\n",
       "\n",
       "This solution indicates that the pencil's cost is indeed certain, and it can be calculated using the provided equations.\n",
       "\n",
       "Verification: \n",
       "The initial assessment was correct; there was sufficient information to determine the pencil's cost. The proposed improvements address this oversight by providing a clear explanation of the calculation process, ensuring that all steps are followed logically. Furthermore, the draft answer now correctly identifies any limitations or assumptions involved in the calculations (none were found). It also clearly summarizes the findings based on the given data.\n",
       "\n",
       "Final Answer: \n",
       "The pencil costs 29 cents."
      ],
      "text/plain": [
       "<IPython.core.display.Markdown object>"
      ]
     },
     "metadata": {},
     "output_type": "display_data"
    },
    {
     "data": {
      "text/markdown": [
       "Simulated Reward: 0.9"
      ],
      "text/plain": [
       "<IPython.core.display.Markdown object>"
      ]
     },
     "metadata": {},
     "output_type": "display_data"
    },
    {
     "data": {
      "text/markdown": [
       "Iteration 2/2"
      ],
      "text/plain": [
       "<IPython.core.display.Markdown object>"
      ]
     },
     "metadata": {},
     "output_type": "display_data"
    },
    {
     "data": {
      "text/markdown": [
       "Selected Node: Here is a revised response that addresses the critique:\n",
       "\n",
       "**Problem:** Three pencils and a jumbo eraser cost $\\$1.24$. Five pencils and a jumbo eraser cost $\\$1.82$. No prices include tax. In cents, what is the cost of a pencil?\n",
       "\n",
       "**Reasoning Process:**\n",
       "\n",
       "Let $x$ represent the cost of one pencil in dollars. The jumbo eraser's cost can be represented as $y$.\n",
       "\n",
       "The first equation is formed from the fact that three pencils and a jumbo eraser cost $\\$1.24$: \n",
       "3x + y = 1.24\n",
       "\n",
       "The second equation comes from the fact that five pencils and a jumbo eraser cost $\\$1.82$: \n",
       "5x + y = 1.82\n",
       "\n",
       "To find the cost of one pencil, we can subtract the first equation from the second equation to eliminate $y$:\n",
       "(5x + y) - (3x + y) = 1.82 - 1.24\n",
       "This simplifies to:\n",
       "2x = 0.58\n",
       "\n",
       "Now, divide both sides by 2 to solve for x:\n",
       "x = 0.29\n",
       "\n",
       "Since the question asks for the cost in cents, we can multiply $x$ by 100 to convert it to cents:\n",
       "0.29 * 100 = 29 cents\n",
       "\n",
       "**Verification:**\n",
       "\n",
       "To verify that our solution is correct, let's plug $x=0.29$ back into both original equations:\n",
       "\n",
       "First equation:\n",
       "3(0.29) + y = 1.24\n",
       "0.87 + y = 1.24\n",
       "y = 1.24 - 0.87\n",
       "y = 0.37\n",
       "\n",
       "Second equation:\n",
       "5(0.29) + y = 1.82\n",
       "1.45 + y = 1.82\n",
       "y = 1.82 - 1.45\n",
       "y = 0.37\n",
       "\n",
       "Both equations yield the same value for $y$, which is consistent with our solution.\n",
       "\n",
       "**Final Answer:**\n",
       "The cost of one pencil is $\\boxed{29}$ cents."
      ],
      "text/plain": [
       "<IPython.core.display.Markdown object>"
      ]
     },
     "metadata": {},
     "output_type": "display_data"
    },
    {
     "data": {
      "text/markdown": [
       "--Evaluation 0--"
      ],
      "text/plain": [
       "<IPython.core.display.Markdown object>"
      ]
     },
     "metadata": {},
     "output_type": "display_data"
    },
    {
     "data": {
      "text/markdown": [
       "The draft answer provides a clear and well-structured solution to the problem, but there are a few areas that could be improved for greater rigor and accuracy.\n",
       "\n",
       "1.  **Verification:** The verification section is incomplete. To verify the correctness of the solution, we need to check if both equations yield the same value for y when x = 0.29. Instead of plugging in x = 0.29 into both original equations as done in the draft answer, it would be better to solve both equations simultaneously to see if they yield consistent results.\n",
       "\n",
       "2.  **Checking for Consistency:** We need to check whether both equations are consistent with each other when solved for y.\n",
       "\n",
       "3.  **Consideration of Potential Errors:** To improve the overall quality of the solution, consider possible errors that might occur in a real-world scenario. For example, we should consider if there is any possibility that our result could be wrong due to floating-point arithmetic or rounding errors.\n",
       "\n",
       "4.  **Avoiding Extraneous Solutions:** We must also verify whether the given solution for x = 0.29 is unique and does not correspond to an extraneous solution.\n",
       "\n",
       "5.  **Documentation of Solution Steps:** A better step-by-step process would involve using matrices instead of subtraction.\n",
       "\n",
       "To solve this problem, we can use either substitution or elimination. Using elimination seems more efficient here.\n",
       "\n",
       "Let's denote the cost of a pencil in dollars as x and the cost of the jumbo eraser as y.\n",
       "\n",
       "Equation 1: 3x + y = 1.24\n",
       "\n",
       "Equation 2: 5x + y = 1.82\n",
       "\n",
       "If we subtract Equation 1 from Equation 2, we eliminate y:\n",
       "\n",
       "(5x + y) - (3x + y) = 1.82 - 1.24\n",
       "This simplifies to:\n",
       "2x = 0.58\n",
       "\n",
       "Now, divide both sides by 2 to solve for x.\n",
       "\n",
       "x = 0.29\n",
       "\n",
       "To verify that our solution is correct, let's use matrices instead of subtraction:\n",
       "\n",
       "|   | x    | y    |\n",
       "|---|------|------|\n",
       "| 1 | 3    | 1    |\n",
       "| 2 | 5    | 1    |\n",
       "\n",
       "Now we perform row operations to put the matrix in reduced echelon form.\n",
       "\n",
       "Subtract Row 1 from Row 2:\n",
       "\n",
       "|   | x    | y    |\n",
       "|---|------|------|\n",
       "| 1 | 3    | 1    |\n",
       "| 2 | 5-3  | 0    |\n",
       "\n",
       "Simplify Row 2 to get:\n",
       "\n",
       "|   | x    | y    |\n",
       "|---|------|------|\n",
       "| 1 | 3    | 1    |\n",
       "| 2 | 2    | 0    |\n",
       "\n",
       "Now we multiply Row 1 by -2 and add it to Row 2.\n",
       "\n",
       "Perform the row operations as shown below:\n",
       "\n",
       "|   | x    | y    |\n",
       "|---|------|------|\n",
       "| 1 | 3    | 1    |\n",
       "| 2 | 0    | -2   |\n",
       "\n",
       "Simplify Row 2 to get:\n",
       "2x + y = 0\n",
       "y = -2x\n",
       "\n",
       "Now we can plug in the value of x into one of the equations to solve for y.\n",
       "\n",
       "Substitute the value of x into Equation 1:\n",
       "\n",
       "3(0.29) + (-2)(0.29) = 1.24\n",
       "0.87-0.58 = 1.24\n",
       "0.29 = 1.24\n",
       "\n",
       "Since we get a contradiction, our initial assumption that the solution is correct was wrong.\n",
       "\n",
       "We see that x=0.29 does not yield consistent results with both equations given in the problem statement, so there is no valid solution for the cost of one pencil in dollars.\n",
       "\n",
       "If you're looking for a numerical answer to this problem in cents, then the problem doesn't have a well-defined answer since it has an inconsistent system of linear equations.\n",
       "\n",
       "In conclusion, while the initial process was correct and thorough, our verification step revealed that the initial solution did not provide consistent results with both given equations. Therefore, we should conclude that there is no valid solution for this particular instance of the problem.\n",
       "\n",
       "\n",
       "\n",
       "To further improve this solution, we could explore alternative methods such as using a linear programming algorithm or attempting to solve the system by hand.\n",
       "\n",
       "In general, verifying that our method has produced the only possible solution for any given set of equations can be challenging. Therefore, when working with systems of linear equations, it is crucial to verify that our solution is consistent and accurate.\n",
       "\n",
       "This problem highlights the importance of carefully checking results and exploring alternative methods in case our initial approach does not yield a correct solution.\n",
       "\n",
       "\n",
       "\n",
       "The process used here was thorough but did not find a valid numerical solution due to inconsistency. In such cases, further analysis or alternative approaches should be explored before concluding that there is no solution for the problem.\n",
       "\n",
       "Overall, this problem demonstrated the importance of verifying solutions and exploring different methods in order to ensure accuracy and consistency in our work.\n",
       "\n",
       "\n",
       "\n",
       "The final answer is: $\\boxed{No Solution}$"
      ],
      "text/plain": [
       "<IPython.core.display.Markdown object>"
      ]
     },
     "metadata": {},
     "output_type": "display_data"
    },
    {
     "data": {
      "text/markdown": [
       "--Refined Answer 0--"
      ],
      "text/plain": [
       "<IPython.core.display.Markdown object>"
      ]
     },
     "metadata": {},
     "output_type": "display_data"
    },
    {
     "data": {
      "text/markdown": [
       "**Problem:** Three pencils and a jumbo eraser cost $\\$1.24$. Five pencils and a jumbo eraser cost $\\$1.82$. No prices include tax. In cents, what is the cost of a pencil?\n",
       "\n",
       "**Reasoning Process:**\n",
       "\n",
       "Let $x$ represent the cost of one pencil in dollars. The jumbo eraser's cost can be represented as $y$.\n",
       "\n",
       "Equation 1: \n",
       "3x + y = 1.24\n",
       "\n",
       "Equation 2:\n",
       "5x + y = 1.82\n",
       "\n",
       "To find the cost of one pencil, we can use elimination or substitution to solve this system of linear equations.\n",
       "\n",
       "Using matrices:\n",
       "\n",
       "|   | x    | y    |\n",
       "|---|------|------|\n",
       "| 1 | 3    | 1    |\n",
       "| 2 | 5    | 1    |\n",
       "\n",
       "To put the matrix in reduced echelon form, we need to perform row operations. \n",
       "\n",
       "Subtract Row 1 from Row 2:\n",
       "\n",
       "|   | x    | y    |\n",
       "|---|------|------|\n",
       "| 1 | 3    | 1    |\n",
       "| 2 | 0    | -1   |\n",
       "\n",
       "Now, multiply Row 1 by -5 and add it to Row 2.\n",
       "\n",
       "Perform the row operations as shown below:\n",
       "\n",
       "|   | x    | y    |\n",
       "|---|------|------|\n",
       "| 1 | 3    | 1    |\n",
       "| 2 | 0    | 4    |\n",
       "\n",
       "Simplify Row 2 to get:\n",
       "-5x + y = 4\n",
       "y = -5x + 4\n",
       "\n",
       "Now we can plug in the value of x into one of the equations to solve for y.\n",
       "\n",
       "Substitute the value of x into Equation 1:\n",
       "\n",
       "3(0.58) + (-5)(0.58) = 1.24\n",
       "0.74-2.9=-0.86, which does not equal zero and thus our solution is incorrect.\n",
       "\n",
       "\n",
       "\n",
       "Since we obtained a contradiction with our initial assumption that the solution was correct, let's look for another possible method to solve this system of equations.\n",
       "\n",
       "Another approach would be to use substitution or elimination methods, but these methods also yield inconsistent results in this instance.\n",
       "\n",
       "\n",
       "\n",
       "Given that we've explored different methods and they all led to inconsistency, it seems that there is no valid numerical answer to the problem. The system of linear equations given does not have a unique solution.\n",
       "\n",
       "\n",
       "\n",
       "Therefore, we should conclude that there is no valid numerical solution for the cost of one pencil in dollars.\n",
       "\n",
       "The final answer is: $\\boxed{No Solution}$"
      ],
      "text/plain": [
       "<IPython.core.display.Markdown object>"
      ]
     },
     "metadata": {},
     "output_type": "display_data"
    },
    {
     "data": {
      "text/markdown": [
       "--Evaluation 1--"
      ],
      "text/plain": [
       "<IPython.core.display.Markdown object>"
      ]
     },
     "metadata": {},
     "output_type": "display_data"
    },
    {
     "data": {
      "text/markdown": [
       "The provided draft answer is mostly accurate and thorough, but there are some areas that require improvement for it to be considered a perfect solution.\n",
       "\n",
       "1.  **Initial problem setup:** The initial problem setup seems clear and concise. However, the preliminary answer section could benefit from a brief explanation of why the question was revised or if any changes were made to the original problem statement.\n",
       "2.  **Variable representation:** Let $x$ represent the cost of one pencil in dollars. The jumbo eraser's cost can be represented as $y$. This is a clear and concise representation of variables.\n",
       "3.  **Equation formation:** The first equation, 3x + y = 1.24, comes from the fact that three pencils and a jumbo eraser cost $\\$1.24$: This seems correct. The second equation, 5x + y = 1.82, comes from the fact that five pencils and a jumbo eraser cost $\\$1.82$: Also correct.\n",
       "4.  **Equation subtraction:** To find the cost of one pencil, we can subtract the first equation from the second equation to eliminate $y$. This is correct, but it might be helpful to explain why this step is necessary or what would happen if this step was not taken.\n",
       "5.  **Solution for x:** The solution for $x$ is calculated as follows: 2x = 0.58. Now, divide both sides by 2 to solve for x: x = 0.29. This seems correct.\n",
       "6.  **Conversion to cents:** Since the question asks for the cost in cents, we can multiply $x$ by 100 to convert it to cents: 0.29 * 100 = 29 cents. This is also correct.\n",
       "7.  **Verification:** The verification step involves plugging $x=0.29$ back into both original equations. However, it might be more efficient and clearer to verify the solution using a different method or by creating a system of linear equations in the form Ax = b, where A is the coefficient matrix, x is the variable vector, and b is the constant vector.\n",
       "8.  **Flaws:** There are no glaring flaws in the provided answer, but it could be improved with additional explanations or more detailed verification steps.\n",
       "\n",
       "**Recommendations:**\n",
       "\n",
       "1.  Add a brief explanation of why the initial problem setup was revised or if any changes were made to the original problem statement.\n",
       "2.  Provide a clear and concise explanation for each step of the reasoning process.\n",
       "3.  Consider adding a graph to illustrate how the equations relate to each other, which can help visualize the solution process.\n",
       "4.  Use more descriptive variable names instead of just x and y. For example, let p represent the cost of one pencil in dollars and e represent the cost of a jumbo eraser.\n",
       "5.  Provide additional verification steps or create a system of linear equations to confirm the accuracy of the solution.\n",
       "6.  Consider adding more context or background information about why this problem is important or relevant to real-world applications.\n",
       "\n",
       "By addressing these points, you can improve the clarity and comprehensiveness of your response while maintaining its accuracy."
      ],
      "text/plain": [
       "<IPython.core.display.Markdown object>"
      ]
     },
     "metadata": {},
     "output_type": "display_data"
    },
    {
     "data": {
      "text/markdown": [
       "--Refined Answer 1--"
      ],
      "text/plain": [
       "<IPython.core.display.Markdown object>"
      ]
     },
     "metadata": {},
     "output_type": "display_data"
    },
    {
     "data": {
      "text/markdown": [
       "**Problem:** Three pencils and a jumbo eraser cost $\\$1.24$. Five pencils and a jumbo eraser cost $\\$1.82$. No prices include tax. In cents, what is the cost of a pencil?\n",
       "\n",
       "**Reasoning Process:**\n",
       "\n",
       "Let $p$ represent the cost of one pencil in dollars and $e$ represent the cost of a jumbo eraser.\n",
       "\n",
       "The first equation is formed from the fact that three pencils and a jumbo eraser cost $\\$1.24$: \n",
       "3p + e = 1.24\n",
       "\n",
       "The second equation comes from the fact that five pencils and a jumbo eraser cost $\\$1.82$: \n",
       "5p + e = 1.82\n",
       "\n",
       "To find the cost of one pencil, we can subtract the first equation from the second equation to eliminate $e$:\n",
       "(5p + e) - (3p + e) = 1.82 - 1.24\n",
       "This simplifies to:\n",
       "2p = 0.58\n",
       "\n",
       "Now, divide both sides by 2 to solve for p:\n",
       "p = 0.29\n",
       "\n",
       "Since the question asks for the cost in cents, we can multiply $p$ by 100 to convert it to cents:\n",
       "0.29 * 100 = 29 cents\n",
       "\n",
       "**Verification:**\n",
       "\n",
       "To verify that our solution is correct, let's plug $p=0.29$ back into both original equations:\n",
       "\n",
       "First equation:\n",
       "3(0.29) + e = 1.24\n",
       "0.87 + e = 1.24\n",
       "e = 1.24 - 0.87\n",
       "e = 0.37\n",
       "\n",
       "Second equation:\n",
       "5(0.29) + e = 1.82\n",
       "1.45 + e = 1.82\n",
       "e = 1.82 - 1.45\n",
       "e = 0.37\n",
       "\n",
       "Both equations yield the same value for $e$, which is consistent with our solution.\n",
       "\n",
       "To further verify, we can create a system of linear equations using the original equations and solve it using methods such as substitution or elimination:\n",
       "\n",
       "\\begin{align*}\n",
       "3p + e &= 1.24\\\\\n",
       "5p + e &= 1.82\n",
       "\\end{align*}\n",
       "\n",
       "Subtracting the first equation from the second equation eliminates $e$:\n",
       "(5p + e) - (3p + e) = 1.82 - 1.24\n",
       "This simplifies to:\n",
       "2p = 0.58\n",
       "\n",
       "Now, divide both sides by 2 to solve for p:\n",
       "p = 0.29\n",
       "\n",
       "By using this alternative method, we can confirm that our solution is correct.\n",
       "\n",
       "**Final Answer:**\n",
       "The cost of one pencil is $\\boxed{29}$ cents."
      ],
      "text/plain": [
       "<IPython.core.display.Markdown object>"
      ]
     },
     "metadata": {},
     "output_type": "display_data"
    },
    {
     "data": {
      "text/markdown": [
       "--Evaluation 2--"
      ],
      "text/plain": [
       "<IPython.core.display.Markdown object>"
      ]
     },
     "metadata": {},
     "output_type": "display_data"
    },
    {
     "data": {
      "text/markdown": [
       "The draft answer is generally well-written, clear, and easy to follow. However, there are some areas that need improvement to make it even more accurate and robust.\n",
       "\n",
       "One potential flaw in the reasoning process is that it assumes that $x$ represents the cost of one pencil directly without considering the possibility that the problem might be trying to test the student's understanding of how prices work. For example, the first equation could be interpreted as \"3 pencils = 1 dollar, eraser = 0.24 dollars,\" which would imply that a pencil costs $0.08.\n",
       "\n",
       "Another potential issue is with the conversion from dollars to cents at the end. While it is correct in general, there might be a small calculation error or an assumption about the precision of the calculations. For instance, if the values are computed exactly as 29.25 and 28.75 for the first and second equations respectively, then converting them to cents will yield 2925/100 = 29.25 and 2875/100 = 28.75 which can be rounded down to 29.\n",
       "\n",
       "Additionally, there is no explicit verification that both solutions (for $x$ and $y$) are indeed true for the given equations; it's just assumed without proof in the last step of verification. For instance, plugging in values into a linear equation should yield some error or inconsistency if those values do not satisfy the original equation.\n",
       "\n",
       "Finally, there is no discussion about what happens when you plug this value back into one of the equations to verify that both solutions are consistent. It would be good to see whether these values also satisfy the other equation as well before concluding they are correct.\n",
       "\n",
       "To improve the answer, I would recommend the following:\n",
       "\n",
       "1. Double-check calculations: Consider all possible calculation paths and check for errors.\n",
       "2. Verify consistency: Plug your solution back into the original equations to verify that both solutions are consistent.\n",
       "3. Discuss potential issues: Address potential misinterpretations of the problem or assumptions about the values in order to provide a more comprehensive explanation.\n",
       "\n",
       "Overall, the draft answer is well-written and clear but should include additional steps for verification and discussion to increase its accuracy and robustness."
      ],
      "text/plain": [
       "<IPython.core.display.Markdown object>"
      ]
     },
     "metadata": {},
     "output_type": "display_data"
    },
    {
     "data": {
      "text/markdown": [
       "--Refined Answer 2--"
      ],
      "text/plain": [
       "<IPython.core.display.Markdown object>"
      ]
     },
     "metadata": {},
     "output_type": "display_data"
    },
    {
     "data": {
      "text/markdown": [
       "**Problem:** Three pencils and a jumbo eraser cost $\\$1.24$. Five pencils and a jumbo eraser cost $\\$1.82$. No prices include tax. In cents, what is the cost of a pencil?\n",
       "\n",
       "**Reasoning Process:**\n",
       "\n",
       "Let $x$ represent the cost of one pencil in dollars. The jumbo eraser's cost can be represented as $y$.\n",
       "\n",
       "The first equation is formed from the fact that three pencils and a jumbo eraser cost $\\$1.24$: \n",
       "3x + y = 1.24\n",
       "\n",
       "The second equation comes from the fact that five pencils and a jumbo eraser cost $\\$1.82$: \n",
       "5x + y = 1.82\n",
       "\n",
       "To find the cost of one pencil, we can subtract the first equation from the second equation to eliminate $y$. However, let's also consider the possibility that $y$ could represent something else.\n",
       "\n",
       "(5x + y) - (3x + y) = 1.82 - 1.24\n",
       "This simplifies to:\n",
       "2x = 0.58\n",
       "\n",
       "Now, divide both sides by 2 to solve for x:\n",
       "x = 0.29\n",
       "\n",
       "Since the question asks for the cost in cents, we can multiply $x$ by 100 to convert it to cents:\n",
       "0.29 * 100 = 29 cents\n",
       "\n",
       "However, this assumes that the price of a pencil is directly represented by the value of $x$. We should also verify if $y$ could represent something other than the price of an eraser.\n",
       "\n",
       "We can plug $x=0.29$ back into both original equations to find $y$, which will help us verify our solution:\n",
       "\n",
       "First equation:\n",
       "3(0.29) + y = 1.24\n",
       "0.87 + y = 1.24\n",
       "y = 1.24 - 0.87\n",
       "y = 0.37\n",
       "\n",
       "Second equation:\n",
       "5(0.29) + y = 1.82\n",
       "1.45 + y = 1.82\n",
       "y = 1.82 - 1.45\n",
       "y = 0.37\n",
       "\n",
       "Now that we have found $x$ and $y$, let's verify our solution by plugging both values back into the original equations to check if they are indeed true:\n",
       "\n",
       "First equation:\n",
       "3(0.29) + (0.37) = 1.24\n",
       "0.87 + 0.37 = 1.24\n",
       "1.24 = 1.24\n",
       "\n",
       "Second equation:\n",
       "5(0.29) + (0.37) = 1.82\n",
       "1.45 + 0.37 = 1.82\n",
       "1.82 = 1.82\n",
       "\n",
       "Since both equations are satisfied, we can be confident that our solution is correct.\n",
       "\n",
       "**Final Answer:**\n",
       "The cost of one pencil is $\\boxed{29}$ cents."
      ],
      "text/plain": [
       "<IPython.core.display.Markdown object>"
      ]
     },
     "metadata": {},
     "output_type": "display_data"
    },
    {
     "data": {
      "text/markdown": [
       "Expanded Node: **Problem:** Three pencils and a jumbo eraser cost $\\$1.24$. Five pencils and a jumbo eraser cost $\\$1.82$. No prices include tax. In cents, what is the cost of a pencil?\n",
       "\n",
       "**Reasoning Process:**\n",
       "\n",
       "Let $x$ represent the cost of one pencil in dollars. The jumbo eraser's cost can be represented as $y$.\n",
       "\n",
       "Equation 1: \n",
       "3x + y = 1.24\n",
       "\n",
       "Equation 2:\n",
       "5x + y = 1.82\n",
       "\n",
       "To find the cost of one pencil, we can use elimination or substitution to solve this system of linear equations.\n",
       "\n",
       "Using matrices:\n",
       "\n",
       "|   | x    | y    |\n",
       "|---|------|------|\n",
       "| 1 | 3    | 1    |\n",
       "| 2 | 5    | 1    |\n",
       "\n",
       "To put the matrix in reduced echelon form, we need to perform row operations. \n",
       "\n",
       "Subtract Row 1 from Row 2:\n",
       "\n",
       "|   | x    | y    |\n",
       "|---|------|------|\n",
       "| 1 | 3    | 1    |\n",
       "| 2 | 0    | -1   |\n",
       "\n",
       "Now, multiply Row 1 by -5 and add it to Row 2.\n",
       "\n",
       "Perform the row operations as shown below:\n",
       "\n",
       "|   | x    | y    |\n",
       "|---|------|------|\n",
       "| 1 | 3    | 1    |\n",
       "| 2 | 0    | 4    |\n",
       "\n",
       "Simplify Row 2 to get:\n",
       "-5x + y = 4\n",
       "y = -5x + 4\n",
       "\n",
       "Now we can plug in the value of x into one of the equations to solve for y.\n",
       "\n",
       "Substitute the value of x into Equation 1:\n",
       "\n",
       "3(0.58) + (-5)(0.58) = 1.24\n",
       "0.74-2.9=-0.86, which does not equal zero and thus our solution is incorrect.\n",
       "\n",
       "\n",
       "\n",
       "Since we obtained a contradiction with our initial assumption that the solution was correct, let's look for another possible method to solve this system of equations.\n",
       "\n",
       "Another approach would be to use substitution or elimination methods, but these methods also yield inconsistent results in this instance.\n",
       "\n",
       "\n",
       "\n",
       "Given that we've explored different methods and they all led to inconsistency, it seems that there is no valid numerical answer to the problem. The system of linear equations given does not have a unique solution.\n",
       "\n",
       "\n",
       "\n",
       "Therefore, we should conclude that there is no valid numerical solution for the cost of one pencil in dollars.\n",
       "\n",
       "The final answer is: $\\boxed{No Solution}$"
      ],
      "text/plain": [
       "<IPython.core.display.Markdown object>"
      ]
     },
     "metadata": {},
     "output_type": "display_data"
    },
    {
     "data": {
      "text/markdown": [
       "Simulated Reward: 0.2"
      ],
      "text/plain": [
       "<IPython.core.display.Markdown object>"
      ]
     },
     "metadata": {},
     "output_type": "display_data"
    },
    {
     "data": {
      "text/markdown": [
       "Most Visited Child: Reasoning Process:\n",
       "\n",
       "To determine the cost of a pencil, we can use the given information to form two equations based on the number of pencils and the jumbo eraser purchased.\n",
       "\n",
       "Let $p$ represent the cost of a pencil in cents and $e$ represent the cost of a jumbo eraser in cents. From the given information, we can write the following equations:\n",
       "\n",
       "1. Three pencils and a jumbo eraser cost $\\$1.24$, which is equivalent to 124 cents.\n",
       "\n",
       "\\[3p + e = 124 \\text{ (Equation 1)}\\]\n",
       "\n",
       "2. Five pencils and a jumbo eraser cost $\\$1.82$, which is equivalent to 182 cents.\n",
       "\n",
       "\\[5p + e = 182 \\text{ (Equation 2)}\\]\n",
       "\n",
       "Subtracting Equation 1 from Equation 2 gives:\n",
       "\n",
       "\\[2p = 58 \\text{ (Equation 3)}\\]\n",
       "\n",
       "Dividing both sides by 2 yields:\n",
       "\n",
       "\\[p = 29 \\text{ cents}\\]\n",
       "\n",
       "This solution indicates that the pencil's cost is indeed certain, and it can be calculated using the provided equations.\n",
       "\n",
       "Verification: \n",
       "The initial assessment was correct; there was sufficient information to determine the pencil's cost. The proposed improvements address this oversight by providing a clear explanation of the calculation process, ensuring that all steps are followed logically. Furthermore, the draft answer now correctly identifies any limitations or assumptions involved in the calculations (none were found). It also clearly summarizes the findings based on the given data.\n",
       "\n",
       "Final Answer: \n",
       "The pencil costs 29 cents."
      ],
      "text/plain": [
       "<IPython.core.display.Markdown object>"
      ]
     },
     "metadata": {},
     "output_type": "display_data"
    },
    {
     "data": {
      "text/markdown": [
       "**MCTS Best Answer:** Reasoning Process:\n",
       "\n",
       "To determine the cost of a pencil, we can use the given information to form two equations based on the number of pencils and the jumbo eraser purchased.\n",
       "\n",
       "Let $p$ represent the cost of a pencil in cents and $e$ represent the cost of a jumbo eraser in cents. From the given information, we can write the following equations:\n",
       "\n",
       "1. Three pencils and a jumbo eraser cost $\\$1.24$, which is equivalent to 124 cents.\n",
       "\n",
       "\\[3p + e = 124 \\text{ (Equation 1)}\\]\n",
       "\n",
       "2. Five pencils and a jumbo eraser cost $\\$1.82$, which is equivalent to 182 cents.\n",
       "\n",
       "\\[5p + e = 182 \\text{ (Equation 2)}\\]\n",
       "\n",
       "Subtracting Equation 1 from Equation 2 gives:\n",
       "\n",
       "\\[2p = 58 \\text{ (Equation 3)}\\]\n",
       "\n",
       "Dividing both sides by 2 yields:\n",
       "\n",
       "\\[p = 29 \\text{ cents}\\]\n",
       "\n",
       "This solution indicates that the pencil's cost is indeed certain, and it can be calculated using the provided equations.\n",
       "\n",
       "Verification: \n",
       "The initial assessment was correct; there was sufficient information to determine the pencil's cost. The proposed improvements address this oversight by providing a clear explanation of the calculation process, ensuring that all steps are followed logically. Furthermore, the draft answer now correctly identifies any limitations or assumptions involved in the calculations (none were found). It also clearly summarizes the findings based on the given data.\n",
       "\n",
       "Final Answer: \n",
       "The pencil costs 29 cents."
      ],
      "text/plain": [
       "<IPython.core.display.Markdown object>"
      ]
     },
     "metadata": {},
     "output_type": "display_data"
    },
    {
     "data": {
      "text/markdown": [
       "**Direct LLM Answer:** None"
      ],
      "text/plain": [
       "<IPython.core.display.Markdown object>"
      ]
     },
     "metadata": {},
     "output_type": "display_data"
    },
    {
     "data": {
      "text/markdown": [
       "**Ground Truth Answer:** Call the price of a pencil $p$ and the price of a jumbo eraser $e$, in terms of cents. We can use the following system of equations to represent the information given: \\begin{align*}\n",
       "3p + e &= 124 \\\\\n",
       "5p + e &= 182 \\\\\n",
       "\\end{align*} Subtracting the first equation from the second gives $2p = 58$, or $p = 29$. Thus, the cost of a pencil is $\\boxed{29}$ cents."
      ],
      "text/plain": [
       "<IPython.core.display.Markdown object>"
      ]
     },
     "metadata": {},
     "output_type": "display_data"
    },
    {
     "data": {
      "text/markdown": [
       "**Ground Truth Short Answer:** 29"
      ],
      "text/plain": [
       "<IPython.core.display.Markdown object>"
      ]
     },
     "metadata": {},
     "output_type": "display_data"
    },
    {
     "data": {
      "text/markdown": [
       "---"
      ],
      "text/plain": [
       "<IPython.core.display.Markdown object>"
      ]
     },
     "metadata": {},
     "output_type": "display_data"
    }
   ],
   "source": [
    "from IPython.display import display, Markdown\n",
    "\n",
    "question, answer, short_answer, level = get_question_and_answer(df, row_number)\n",
    "\n",
    "# Set the number of MCTS iterations\n",
    "mcts_iterations = 2 * level\n",
    "\n",
    "# Display the question\n",
    "display(Markdown(f\"### Question (Level {level}):\"))\n",
    "display(Markdown(f\"**Problem:** {question}\"))\n",
    "\n",
    "# Obtain MCTS best answer\n",
    "mcts = MCTS(question, initial_answers, iterations=level)\n",
    "best_answer = mcts.search()\n",
    "\n",
    "# Obtain direct LLM response\n",
    "ollama_response, final_answer = direct_response(question)\n",
    "\n",
    "# Display the answers\n",
    "display(Markdown(f\"**MCTS Best Answer:** {best_answer}\"))\n",
    "display(Markdown(f\"**Direct LLM Answer:** {final_answer}\"))\n",
    "display(Markdown(f\"**Ground Truth Answer:** {answer}\"))\n",
    "display(Markdown(f\"**Ground Truth Short Answer:** {short_answer}\"))\n",
    "display(Markdown(\"---\"))"
   ]
  }
 ],
 "metadata": {
  "kernelspec": {
   "display_name": "RTML",
   "language": "python",
   "name": "python3"
  },
  "language_info": {
   "codemirror_mode": {
    "name": "ipython",
    "version": 3
   },
   "file_extension": ".py",
   "mimetype": "text/x-python",
   "name": "python",
   "nbconvert_exporter": "python",
   "pygments_lexer": "ipython3",
   "version": "3.11.10"
  }
 },
 "nbformat": 4,
 "nbformat_minor": 2
}
