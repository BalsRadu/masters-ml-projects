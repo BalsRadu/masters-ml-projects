{
 "cells": [
  {
   "cell_type": "code",
   "execution_count": 1,
   "metadata": {},
   "outputs": [],
   "source": [
    "import glob\n",
    "import os\n",
    "\n",
    "import numpy as np\n",
    "from PIL import Image \n",
    "from sklearn.model_selection import train_test_split\n",
    "\n",
    "import torch\n",
    "import torch.nn as nn\n",
    "import torch.optim as optim\n",
    "from torch.optim.lr_scheduler import StepLR\n",
    "from torch.utils.data import DataLoader\n",
    "from torchvision import transforms\n",
    "\n",
    "import pytorch_lightning as pl\n",
    "from pytorch_lightning import Trainer\n",
    "from pytorch_lightning.callbacks import ModelCheckpoint, EarlyStopping"
   ]
  },
  {
   "cell_type": "code",
   "execution_count": 2,
   "metadata": {},
   "outputs": [],
   "source": [
    "with open(\"categories.txt\", \"r\") as f:\n",
    "    classes = [line.strip().replace(' ', '_') for line in f.readlines()]"
   ]
  },
  {
   "cell_type": "code",
   "execution_count": 3,
   "metadata": {},
   "outputs": [],
   "source": [
    "\n",
    "def load_quickdraw_data(root, vfold_ratio=0.1, max_items_per_class=50000, img_size=(28, 28)):\n",
    "    \"\"\"\n",
    "    Load QuickDraw data from .npy files, process images, and split into train/val sets.\n",
    "\n",
    "    Parameters:\n",
    "        root (str): Path to the directory containing QuickDraw .npy files.\n",
    "        vfold_ratio (float): Fraction of the data to use as validation.\n",
    "        max_items_per_class (int): Maximum number of items to load per class.\n",
    "        img_size (tuple): Size to reshape images (28, 28 for QuickDraw).\n",
    "\n",
    "    Returns:\n",
    "        (torch.Tensor, torch.Tensor, torch.Tensor, torch.Tensor): Train and validation images and labels.\n",
    "    \"\"\"\n",
    "    all_files = glob.glob(os.path.join(root, '*.npy'))\n",
    "    num_classes = len(all_files)\n",
    "    \n",
    "    # Pre-allocate arrays based on max_items_per_class\n",
    "    x = np.empty((num_classes * max_items_per_class, img_size[0] * img_size[1]), dtype=np.uint8)\n",
    "    y = np.empty((num_classes * max_items_per_class,), dtype=np.int64)\n",
    "    \n",
    "    current_index = 0\n",
    "\n",
    "    # Load and process each class file\n",
    "    for idx, file in enumerate(all_files):\n",
    "        data = np.load(file, mmap_mode='r')[:max_items_per_class, :].astype(np.uint8)\n",
    "        num_samples = data.shape[0]\n",
    "\n",
    "        # Place data in the pre-allocated arrays\n",
    "        x[current_index:current_index + num_samples] = data\n",
    "        y[current_index:current_index + num_samples] = idx\n",
    "        current_index += num_samples\n",
    "\n",
    "    # Trim x and y to the actual number of samples loaded\n",
    "    x = x[:current_index]\n",
    "    y = y[:current_index]\n",
    "\n",
    "    # Shuffle the dataset\n",
    "    indices = np.random.permutation(len(y))\n",
    "    x = x[indices]\n",
    "    y = y[indices]\n",
    "\n",
    "    # Reshape images and normalize\n",
    "    x = x.reshape(-1, *img_size)\n",
    "\n",
    "    # Split dataset into training and validation sets\n",
    "    x_train, x_val, y_train, y_val = train_test_split(x, y, test_size=vfold_ratio, random_state=42)\n",
    "\n",
    "    return x_train, x_val, y_train, y_val\n"
   ]
  },
  {
   "cell_type": "code",
   "execution_count": 4,
   "metadata": {},
   "outputs": [],
   "source": [
    "class QuickDrawDataset(torch.utils.data.Dataset):\n",
    "    def __init__(self, images, labels, transform=None):\n",
    "        self.images = images\n",
    "        self.labels = labels\n",
    "        self.transform = transform\n",
    "\n",
    "    def __len__(self):\n",
    "        return len(self.labels)\n",
    "\n",
    "    def __getitem__(self, idx):\n",
    "        image = self.images[idx].reshape(28, 28)  # Reshape to original 2D image\n",
    "        label = self.labels[idx]\n",
    "\n",
    "        # Convert to PIL for torchvision transforms\n",
    "        image = Image.fromarray(image, mode=\"L\")\n",
    "        \n",
    "        if self.transform:\n",
    "            image = self.transform(image)\n",
    "\n",
    "        return image, label\n",
    "    \n",
    "# Apply transforms for resizing and normalization\n",
    "transform = transforms.Compose([\n",
    "    transforms.ToTensor(),\n",
    "])\n",
    "\n",
    "\n",
    "# Assume data is loaded from a .npy file or similar format\n",
    "X_train, X_val, y_train, y_val = load_quickdraw_data('../data', vfold_ratio=0.1, max_items_per_class=1000)\n",
    "\n",
    "train_dataset = QuickDrawDataset(X_train, y_train, transform=transform)\n",
    "val_dataset = QuickDrawDataset(X_val, y_val, transform=transform)"
   ]
  },
  {
   "cell_type": "code",
   "execution_count": 5,
   "metadata": {},
   "outputs": [],
   "source": [
    "class Ink2DoodleNet(nn.Module):\n",
    "    def __init__(self, num_classes=345):\n",
    "        super(Ink2DoodleNet, self).__init__()\n",
    "        self.conv_layers = nn.Sequential(\n",
    "            nn.Conv2d(1, 16, kernel_size=3, padding=1), nn.BatchNorm2d(16), nn.ReLU(),\n",
    "            nn.Conv2d(16, 16, kernel_size=3, padding=1), nn.BatchNorm2d(16), nn.ReLU(),\n",
    "            nn.MaxPool2d(2), nn.Dropout(0.1),\n",
    "\n",
    "            nn.Conv2d(16, 32, kernel_size=3, padding=1), nn.BatchNorm2d(32), nn.ReLU(),\n",
    "            nn.Conv2d(32, 32, kernel_size=3, padding=1), nn.BatchNorm2d(32), nn.ReLU(),\n",
    "            nn.MaxPool2d(2), nn.Dropout(0.1),\n",
    "\n",
    "            nn.Conv2d(32, 64, kernel_size=3, padding=1), nn.BatchNorm2d(64),nn.ReLU(),\n",
    "            nn.Conv2d(64, 64, kernel_size=3, padding=1), nn.BatchNorm2d(64),nn.ReLU(),\n",
    "            nn.MaxPool2d(2), nn.Dropout(0.1)\n",
    "        )\n",
    "        \n",
    "        self.fc_layers = nn.Sequential(\n",
    "            nn.Flatten(),\n",
    "            nn.Linear(64*3*3, 512), nn.ReLU(),\n",
    "            nn.Dropout(0.3),\n",
    "            nn.Linear(512, num_classes),\n",
    "            nn.LogSoftmax(dim=1)\n",
    "        )\n",
    "\n",
    "    def forward(self, x):\n",
    "        x = self.conv_layers(x)\n",
    "        x = self.fc_layers(x)\n",
    "        return x"
   ]
  },
  {
   "cell_type": "code",
   "execution_count": 6,
   "metadata": {},
   "outputs": [],
   "source": [
    "# Set up DataLoaders\n",
    "train_loader = DataLoader(train_dataset, batch_size=256, shuffle=True, num_workers=0, pin_memory=True)\n",
    "val_loader = DataLoader(val_dataset, batch_size=256, shuffle=False, num_workers=0, pin_memory=True)"
   ]
  },
  {
   "cell_type": "code",
   "execution_count": 19,
   "metadata": {},
   "outputs": [
    {
     "name": "stdout",
     "output_type": "stream",
     "text": [
      "Converted weights saved to D:\\masters-ml-projects\\Fundamentals of Computer Vision\\DoodleClassifier\\ink2doodle\\models\\ink2doodle_converted_weights.pth\n"
     ]
    },
    {
     "name": "stderr",
     "output_type": "stream",
     "text": [
      "C:\\Users\\balsr\\AppData\\Local\\Temp\\ipykernel_27084\\2159925803.py:6: FutureWarning: You are using `torch.load` with `weights_only=False` (the current default value), which uses the default pickle module implicitly. It is possible to construct malicious pickle data which will execute arbitrary code during unpickling (See https://github.com/pytorch/pytorch/blob/main/SECURITY.md#untrusted-models for more details). In a future release, the default value for `weights_only` will be flipped to `True`. This limits the functions that could be executed during unpickling. Arbitrary objects will no longer be allowed to be loaded via this mode unless they are explicitly allowlisted by the user via `torch.serialization.add_safe_globals`. We recommend you start setting `weights_only=True` for any use case where you don't have full control of the loaded file. Please open an issue on GitHub for any issues related to this experimental feature.\n",
      "  checkpoint = torch.load(checkpoint_path, map_location=torch.device('cpu'))\n"
     ]
    },
    {
     "data": {
      "text/plain": [
       "Ink2DoodleNet(\n",
       "  (conv_layers): Sequential(\n",
       "    (0): Conv2d(1, 16, kernel_size=(3, 3), stride=(1, 1), padding=(1, 1))\n",
       "    (1): BatchNorm2d(16, eps=1e-05, momentum=0.1, affine=True, track_running_stats=True)\n",
       "    (2): ReLU()\n",
       "    (3): Conv2d(16, 16, kernel_size=(3, 3), stride=(1, 1), padding=(1, 1))\n",
       "    (4): BatchNorm2d(16, eps=1e-05, momentum=0.1, affine=True, track_running_stats=True)\n",
       "    (5): ReLU()\n",
       "    (6): MaxPool2d(kernel_size=2, stride=2, padding=0, dilation=1, ceil_mode=False)\n",
       "    (7): Dropout(p=0.1, inplace=False)\n",
       "    (8): Conv2d(16, 32, kernel_size=(3, 3), stride=(1, 1), padding=(1, 1))\n",
       "    (9): BatchNorm2d(32, eps=1e-05, momentum=0.1, affine=True, track_running_stats=True)\n",
       "    (10): ReLU()\n",
       "    (11): Conv2d(32, 32, kernel_size=(3, 3), stride=(1, 1), padding=(1, 1))\n",
       "    (12): BatchNorm2d(32, eps=1e-05, momentum=0.1, affine=True, track_running_stats=True)\n",
       "    (13): ReLU()\n",
       "    (14): MaxPool2d(kernel_size=2, stride=2, padding=0, dilation=1, ceil_mode=False)\n",
       "    (15): Dropout(p=0.1, inplace=False)\n",
       "    (16): Conv2d(32, 64, kernel_size=(3, 3), stride=(1, 1), padding=(1, 1))\n",
       "    (17): BatchNorm2d(64, eps=1e-05, momentum=0.1, affine=True, track_running_stats=True)\n",
       "    (18): ReLU()\n",
       "    (19): Conv2d(64, 64, kernel_size=(3, 3), stride=(1, 1), padding=(1, 1))\n",
       "    (20): BatchNorm2d(64, eps=1e-05, momentum=0.1, affine=True, track_running_stats=True)\n",
       "    (21): ReLU()\n",
       "    (22): MaxPool2d(kernel_size=2, stride=2, padding=0, dilation=1, ceil_mode=False)\n",
       "    (23): Dropout(p=0.1, inplace=False)\n",
       "  )\n",
       "  (fc_layers): Sequential(\n",
       "    (0): Flatten(start_dim=1, end_dim=-1)\n",
       "    (1): Linear(in_features=576, out_features=512, bias=True)\n",
       "    (2): ReLU()\n",
       "    (3): Dropout(p=0.3, inplace=False)\n",
       "    (4): Linear(in_features=512, out_features=345, bias=True)\n",
       "    (5): LogSoftmax(dim=1)\n",
       "  )\n",
       ")"
      ]
     },
     "execution_count": 19,
     "metadata": {},
     "output_type": "execute_result"
    }
   ],
   "source": [
    "\n",
    "def load_and_save_ink2doodle_weights(checkpoint_path, model_class, num_classes, lr=0.001, save_path=\"ink2doodle_converted_weights.pth\"):\n",
    "    # Initialize the base model class\n",
    "    model = model_class(num_classes=num_classes)\n",
    "    \n",
    "    # Load checkpoint into memory\n",
    "    checkpoint = torch.load(checkpoint_path, map_location=torch.device('cpu'))\n",
    "\n",
    "    # Strip \"model.\" prefix from the keys in the state_dict\n",
    "    adjusted_state_dict = {k.replace(\"model.\", \"\"): v for k, v in checkpoint['state_dict'].items()}\n",
    "    \n",
    "    # Load adjusted state_dict into the model\n",
    "    model.load_state_dict(adjusted_state_dict, strict=True)\n",
    "    \n",
    "    # Save the adjusted state dict\n",
    "    torch.save(model.state_dict(), save_path)\n",
    "    print(f\"Converted weights saved to {save_path}\")\n",
    "    \n",
    "    return model\n",
    "\n",
    "# Load, adjust, and save the checkpoint for Ink2DoodleNet\n",
    "checkpoint_path = r\"D:\\masters-ml-projects\\Fundamentals of Computer Vision\\DoodleClassifier\\ink2doodle\\models\\ink2doodle.ckpt\"\n",
    "save_path = r\"D:\\masters-ml-projects\\Fundamentals of Computer Vision\\DoodleClassifier\\ink2doodle\\models\\ink2doodle_converted_weights.pth\"\n",
    "model = load_and_save_ink2doodle_weights(checkpoint_path, Ink2DoodleNet, num_classes=345, save_path=save_path)\n",
    "\n",
    "# Set the model to evaluation mode\n",
    "model.eval()"
   ]
  },
  {
   "cell_type": "code",
   "execution_count": 21,
   "metadata": {},
   "outputs": [
    {
     "name": "stderr",
     "output_type": "stream",
     "text": [
      "C:\\Users\\balsr\\AppData\\Local\\Temp\\ipykernel_27084\\4099407932.py:6: FutureWarning: You are using `torch.load` with `weights_only=False` (the current default value), which uses the default pickle module implicitly. It is possible to construct malicious pickle data which will execute arbitrary code during unpickling (See https://github.com/pytorch/pytorch/blob/main/SECURITY.md#untrusted-models for more details). In a future release, the default value for `weights_only` will be flipped to `True`. This limits the functions that could be executed during unpickling. Arbitrary objects will no longer be allowed to be loaded via this mode unless they are explicitly allowlisted by the user via `torch.serialization.add_safe_globals`. We recommend you start setting `weights_only=True` for any use case where you don't have full control of the loaded file. Please open an issue on GitHub for any issues related to this experimental feature.\n",
      "  checkpoint = torch.load(checkpoint_path, map_location=torch.device('cpu'))\n"
     ]
    },
    {
     "data": {
      "text/plain": [
       "Ink2DoodleNet(\n",
       "  (conv_layers): Sequential(\n",
       "    (0): Conv2d(1, 16, kernel_size=(3, 3), stride=(1, 1), padding=(1, 1))\n",
       "    (1): BatchNorm2d(16, eps=1e-05, momentum=0.1, affine=True, track_running_stats=True)\n",
       "    (2): ReLU()\n",
       "    (3): Conv2d(16, 16, kernel_size=(3, 3), stride=(1, 1), padding=(1, 1))\n",
       "    (4): BatchNorm2d(16, eps=1e-05, momentum=0.1, affine=True, track_running_stats=True)\n",
       "    (5): ReLU()\n",
       "    (6): MaxPool2d(kernel_size=2, stride=2, padding=0, dilation=1, ceil_mode=False)\n",
       "    (7): Dropout(p=0.1, inplace=False)\n",
       "    (8): Conv2d(16, 32, kernel_size=(3, 3), stride=(1, 1), padding=(1, 1))\n",
       "    (9): BatchNorm2d(32, eps=1e-05, momentum=0.1, affine=True, track_running_stats=True)\n",
       "    (10): ReLU()\n",
       "    (11): Conv2d(32, 32, kernel_size=(3, 3), stride=(1, 1), padding=(1, 1))\n",
       "    (12): BatchNorm2d(32, eps=1e-05, momentum=0.1, affine=True, track_running_stats=True)\n",
       "    (13): ReLU()\n",
       "    (14): MaxPool2d(kernel_size=2, stride=2, padding=0, dilation=1, ceil_mode=False)\n",
       "    (15): Dropout(p=0.1, inplace=False)\n",
       "    (16): Conv2d(32, 64, kernel_size=(3, 3), stride=(1, 1), padding=(1, 1))\n",
       "    (17): BatchNorm2d(64, eps=1e-05, momentum=0.1, affine=True, track_running_stats=True)\n",
       "    (18): ReLU()\n",
       "    (19): Conv2d(64, 64, kernel_size=(3, 3), stride=(1, 1), padding=(1, 1))\n",
       "    (20): BatchNorm2d(64, eps=1e-05, momentum=0.1, affine=True, track_running_stats=True)\n",
       "    (21): ReLU()\n",
       "    (22): MaxPool2d(kernel_size=2, stride=2, padding=0, dilation=1, ceil_mode=False)\n",
       "    (23): Dropout(p=0.1, inplace=False)\n",
       "  )\n",
       "  (fc_layers): Sequential(\n",
       "    (0): Flatten(start_dim=1, end_dim=-1)\n",
       "    (1): Linear(in_features=576, out_features=512, bias=True)\n",
       "    (2): ReLU()\n",
       "    (3): Dropout(p=0.3, inplace=False)\n",
       "    (4): Linear(in_features=512, out_features=345, bias=True)\n",
       "    (5): LogSoftmax(dim=1)\n",
       "  )\n",
       ")"
      ]
     },
     "execution_count": 21,
     "metadata": {},
     "output_type": "execute_result"
    }
   ],
   "source": [
    "def load_ink2doodle_weights(checkpoint_path, model_class, num_classes, lr=0.001):\n",
    "    # Initialize the base model class\n",
    "    model = model_class(num_classes=num_classes)\n",
    "    \n",
    "    # Load checkpoint into memory\n",
    "    checkpoint = torch.load(checkpoint_path, map_location=torch.device('cpu'))\n",
    "\n",
    "    # Load adjusted state_dict into the model\n",
    "    model.load_state_dict(checkpoint, strict=True)\n",
    "    \n",
    "    return model\n",
    "\n",
    "# Load the checkpoint into Ink2DoodleNet\n",
    "checkpoint_path = r\"D:\\masters-ml-projects\\Fundamentals of Computer Vision\\DoodleClassifier\\ink2doodle\\models\\ink2doodle_converted_weights.pth\"\n",
    "model = load_ink2doodle_weights(checkpoint_path, Ink2DoodleNet, num_classes=345)\n",
    "\n",
    "# Set the model to evaluation mode\n",
    "model.eval()"
   ]
  },
  {
   "cell_type": "code",
   "execution_count": 17,
   "metadata": {},
   "outputs": [
    {
     "data": {
      "image/png": "[encoded data removed]",
      "text/plain": [
       "<Figure size 640x480 with 1 Axes>"
      ]
     },
     "metadata": {},
     "output_type": "display_data"
    },
    {
     "name": "stdout",
     "output_type": "stream",
     "text": [
      "Top 5 Predictions:\n",
      "1: tiger (21.38%)\n",
      "2: owl (5.28%)\n",
      "3: face (4.66%)\n",
      "4: steak (4.65%)\n",
      "5: penguin (3.40%)\n"
     ]
    }
   ],
   "source": [
    "import torch\n",
    "import numpy as np\n",
    "import matplotlib.pyplot as plt\n",
    "from random import randint\n",
    "%matplotlib inline  \n",
    "\n",
    "device = torch.device(\"cpu\")\n",
    "# Set the model to evaluation mode\n",
    "model.eval()\n",
    "\n",
    "# Display an example prediction\n",
    "idx = randint(0, len(val_loader.dataset))\n",
    "img, true_label = val_loader.dataset[idx]\n",
    "img = img.unsqueeze(0).to(device)  # Add batch dimension and move to the model's device\n",
    "\n",
    "# Show the image\n",
    "plt.imshow(img.cpu().squeeze(), cmap='gray')\n",
    "plt.title(f\"True Label: {classes[true_label]}\")\n",
    "plt.axis('off')\n",
    "plt.show()\n",
    "\n",
    "# Make a prediction\n",
    "with torch.no_grad():\n",
    "    model.eval()\n",
    "    output = model(img)\n",
    "    probabilities = torch.softmax(output, dim=1)[0]\n",
    "    top_5_probs, top_5_indices = torch.topk(probabilities, 5)\n",
    "\n",
    "# Display the top 5 predictions with probabilities\n",
    "print(\"Top 5 Predictions:\")\n",
    "for i in range(5):\n",
    "    print(f\"{i+1}: {classes[top_5_indices[i].item()]} ({top_5_probs[i].item() * 100:.2f}%)\")\n"
   ]
  },
  {
   "cell_type": "code",
   "execution_count": 18,
   "metadata": {},
   "outputs": [
    {
     "name": "stdout",
     "output_type": "stream",
     "text": [
      "Top-5 Accuracy on subset of 1000 samples: 90.80%\n"
     ]
    }
   ],
   "source": [
    "def top_k_accuracy(model, data_loader, k=5, subset_size=100):\n",
    "    model.eval()  # Set the model to evaluation mode\n",
    "    correct = 0\n",
    "    total = 0\n",
    "\n",
    "    with torch.no_grad():  # Disable gradients for evaluation\n",
    "        for idx, (images, labels) in enumerate(data_loader):\n",
    "            if total >= subset_size:\n",
    "                break  # Stop after reaching the subset size\n",
    "\n",
    "            images, labels = images.to(device), labels.to(device)  # Move data to device\n",
    "            outputs = model(images)  # Get model predictions\n",
    "            _, top_k_preds = torch.topk(outputs, k, dim=1)  # Get the top k predictions\n",
    "            top_k_preds = top_k_preds.t()  # Transpose for easy comparison\n",
    "            correct += (top_k_preds == labels.view(1, -1)).any(dim=0).sum().item()  # Check if any top k is correct\n",
    "            total += labels.size(0)\n",
    "\n",
    "            # Stop early if adding this batch exceeds subset size\n",
    "            if total > subset_size:\n",
    "                correct -= (top_k_preds == labels.view(1, -1)).any(dim=0).sum().item()\n",
    "                total -= labels.size(0)\n",
    "                remaining = subset_size - total\n",
    "                correct += (top_k_preds[:, :remaining] == labels.view(1, -1)[:, :remaining]).any(dim=0).sum().item()\n",
    "                total += remaining\n",
    "                break\n",
    "\n",
    "    # Calculate accuracy as a percentage\n",
    "    top_k_acc = (correct / total) * 100\n",
    "    return top_k_acc\n",
    "\n",
    "subset_size=1000\n",
    "# Example usage with k=5 and subset_size=100\n",
    "top_k_acc = top_k_accuracy(model, val_loader, k=5, subset_size=subset_size)\n",
    "print(f\"Top-5 Accuracy on subset of {subset_size} samples: {top_k_acc:.2f}%\")\n"
   ]
  }
 ],
 "metadata": {
  "kernelspec": {
   "display_name": "FCV",
   "language": "python",
   "name": "python3"
  },
  "language_info": {
   "codemirror_mode": {
    "name": "ipython",
    "version": 3
   },
   "file_extension": ".py",
   "mimetype": "text/x-python",
   "name": "python",
   "nbconvert_exporter": "python",
   "pygments_lexer": "ipython3",
   "version": "3.12.7"
  }
 },
 "nbformat": 4,
 "nbformat_minor": 2
}
